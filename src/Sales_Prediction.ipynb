{
 "cells": [
  {
   "attachments": {},
   "cell_type": "markdown",
   "metadata": {},
   "source": [
    "# Marijuana Sales Prediction"
   ]
  },
  {
   "attachments": {},
   "cell_type": "markdown",
   "metadata": {},
   "source": [
    "## Projects Objective\n",
    "- Goal: Predict sales of each brand\n",
    "- Sub-problems: "
   ]
  },
  {
   "attachments": {},
   "cell_type": "markdown",
   "metadata": {},
   "source": [
    "## Import Required Libraries"
   ]
  },
  {
   "cell_type": "code",
   "execution_count": 175,
   "metadata": {},
   "outputs": [],
   "source": [
    "# import systems tools \n",
    "import os \n",
    "import sys\n",
    "\n",
    "# import numerical tools\n",
    "import numpy as np \n",
    "import pandas as pd\n",
    "import seaborn as sns\n",
    "import matplotlib.pyplot as plt \n",
    "import warnings\n"
   ]
  },
  {
   "attachments": {},
   "cell_type": "markdown",
   "metadata": {},
   "source": [
    "## Load Data\n",
    "- Load from local dataset"
   ]
  },
  {
   "cell_type": "code",
   "execution_count": 176,
   "metadata": {},
   "outputs": [],
   "source": [
    "%reload_ext autoreload\n",
    "%autoreload 2\n",
    "import warnings\n",
    "warnings.filterwarnings('ignore')\n",
    "# import required packages\n",
    "import sys\n",
    "import os\n",
    "import pandas as pd\n",
    "# Load Dataset\n",
    "avgRetail = pd.read_csv(\"../data/BrandAverageRetailPrice.csv\")\n",
    "brandDetail = pd.read_csv(\"../data/BrandDetails.csv\")\n",
    "totalSales = pd.read_csv(\"../data/BrandTotalSales.csv\")\n",
    "totalUnits = pd.read_csv(\"../data/BrandTotalUnits.csv\")"
   ]
  },
  {
   "attachments": {},
   "cell_type": "markdown",
   "metadata": {},
   "source": [
    "## Construct Dataset \n",
    "- Time-series data\n",
    "    - Convert into same time-stamp format\n",
    "- Clean Data \n",
    "    - without imputation\n",
    "- Feature Engineering\n",
    "    - Feature augmentation\n",
    "    - Combining feature in same/different datasets"
   ]
  },
  {
   "attachments": {},
   "cell_type": "markdown",
   "metadata": {},
   "source": [
    "### Find the dataset to start with\n",
    "- Criteria: Information of each datasets\n",
    "- Objective: Since the final goal is to predict the future sales, we start with the dataset that seems to have strong correlation with sales, and also with few feature to start with. "
   ]
  },
  {
   "attachments": {},
   "cell_type": "markdown",
   "metadata": {},
   "source": [
    "#### Total Sales dataset"
   ]
  },
  {
   "cell_type": "code",
   "execution_count": 177,
   "metadata": {},
   "outputs": [
    {
     "name": "stdout",
     "output_type": "stream",
     "text": [
      "<class 'pandas.core.frame.DataFrame'>\n",
      "RangeIndex: 25279 entries, 0 to 25278\n",
      "Data columns (total 3 columns):\n",
      " #   Column           Non-Null Count  Dtype \n",
      "---  ------           --------------  ----- \n",
      " 0   Months           25279 non-null  object\n",
      " 1   Brand            25279 non-null  object\n",
      " 2   Total Sales ($)  25279 non-null  object\n",
      "dtypes: object(3)\n",
      "memory usage: 592.6+ KB\n"
     ]
    },
    {
     "data": {
      "text/html": [
       "<div>\n",
       "<style scoped>\n",
       "    .dataframe tbody tr th:only-of-type {\n",
       "        vertical-align: middle;\n",
       "    }\n",
       "\n",
       "    .dataframe tbody tr th {\n",
       "        vertical-align: top;\n",
       "    }\n",
       "\n",
       "    .dataframe thead th {\n",
       "        text-align: right;\n",
       "    }\n",
       "</style>\n",
       "<table border=\"1\" class=\"dataframe\">\n",
       "  <thead>\n",
       "    <tr style=\"text-align: right;\">\n",
       "      <th></th>\n",
       "      <th>Months</th>\n",
       "      <th>Brand</th>\n",
       "      <th>Total Sales ($)</th>\n",
       "    </tr>\n",
       "  </thead>\n",
       "  <tbody>\n",
       "    <tr>\n",
       "      <th>0</th>\n",
       "      <td>09/2018</td>\n",
       "      <td>10x Infused</td>\n",
       "      <td>1,711.334232</td>\n",
       "    </tr>\n",
       "    <tr>\n",
       "      <th>1</th>\n",
       "      <td>09/2018</td>\n",
       "      <td>1964 Supply Co.</td>\n",
       "      <td>25,475.21594500000</td>\n",
       "    </tr>\n",
       "    <tr>\n",
       "      <th>2</th>\n",
       "      <td>09/2018</td>\n",
       "      <td>3 Bros Grow</td>\n",
       "      <td>120,153.644757</td>\n",
       "    </tr>\n",
       "    <tr>\n",
       "      <th>3</th>\n",
       "      <td>09/2018</td>\n",
       "      <td>3 Leaf</td>\n",
       "      <td>6,063.5297850000000</td>\n",
       "    </tr>\n",
       "    <tr>\n",
       "      <th>4</th>\n",
       "      <td>09/2018</td>\n",
       "      <td>350 Fire</td>\n",
       "      <td>631,510.0481550000</td>\n",
       "    </tr>\n",
       "  </tbody>\n",
       "</table>\n",
       "</div>"
      ],
      "text/plain": [
       "    Months            Brand      Total Sales ($)\n",
       "0  09/2018      10x Infused         1,711.334232\n",
       "1  09/2018  1964 Supply Co.   25,475.21594500000\n",
       "2  09/2018      3 Bros Grow       120,153.644757\n",
       "3  09/2018           3 Leaf  6,063.5297850000000\n",
       "4  09/2018         350 Fire   631,510.0481550000"
      ]
     },
     "execution_count": 177,
     "metadata": {},
     "output_type": "execute_result"
    }
   ],
   "source": [
    "totalSales.info()\n",
    "totalSales.head(5)"
   ]
  },
  {
   "attachments": {},
   "cell_type": "markdown",
   "metadata": {},
   "source": [
    "#### Total units dataset"
   ]
  },
  {
   "cell_type": "code",
   "execution_count": 178,
   "metadata": {},
   "outputs": [
    {
     "name": "stdout",
     "output_type": "stream",
     "text": [
      "<class 'pandas.core.frame.DataFrame'>\n",
      "RangeIndex: 27686 entries, 0 to 27685\n",
      "Data columns (total 4 columns):\n",
      " #   Column            Non-Null Count  Dtype  \n",
      "---  ------            --------------  -----  \n",
      " 0   Brands            27686 non-null  object \n",
      " 1   Months            27686 non-null  object \n",
      " 2   Total Units       25712 non-null  object \n",
      " 3   vs. Prior Period  24935 non-null  float64\n",
      "dtypes: float64(1), object(3)\n",
      "memory usage: 865.3+ KB\n"
     ]
    },
    {
     "data": {
      "text/html": [
       "<div>\n",
       "<style scoped>\n",
       "    .dataframe tbody tr th:only-of-type {\n",
       "        vertical-align: middle;\n",
       "    }\n",
       "\n",
       "    .dataframe tbody tr th {\n",
       "        vertical-align: top;\n",
       "    }\n",
       "\n",
       "    .dataframe thead th {\n",
       "        text-align: right;\n",
       "    }\n",
       "</style>\n",
       "<table border=\"1\" class=\"dataframe\">\n",
       "  <thead>\n",
       "    <tr style=\"text-align: right;\">\n",
       "      <th></th>\n",
       "      <th>Brands</th>\n",
       "      <th>Months</th>\n",
       "      <th>Total Units</th>\n",
       "      <th>vs. Prior Period</th>\n",
       "    </tr>\n",
       "  </thead>\n",
       "  <tbody>\n",
       "    <tr>\n",
       "      <th>0</th>\n",
       "      <td>#BlackSeries</td>\n",
       "      <td>08/2020</td>\n",
       "      <td>1,616.3390040000000</td>\n",
       "      <td>NaN</td>\n",
       "    </tr>\n",
       "    <tr>\n",
       "      <th>1</th>\n",
       "      <td>#BlackSeries</td>\n",
       "      <td>09/2020</td>\n",
       "      <td>NaN</td>\n",
       "      <td>-1.000000</td>\n",
       "    </tr>\n",
       "    <tr>\n",
       "      <th>2</th>\n",
       "      <td>#BlackSeries</td>\n",
       "      <td>01/2021</td>\n",
       "      <td>715.5328380000000</td>\n",
       "      <td>NaN</td>\n",
       "    </tr>\n",
       "    <tr>\n",
       "      <th>3</th>\n",
       "      <td>#BlackSeries</td>\n",
       "      <td>02/2021</td>\n",
       "      <td>766.669135</td>\n",
       "      <td>0.071466</td>\n",
       "    </tr>\n",
       "    <tr>\n",
       "      <th>4</th>\n",
       "      <td>#BlackSeries</td>\n",
       "      <td>03/2021</td>\n",
       "      <td>NaN</td>\n",
       "      <td>-1.000000</td>\n",
       "    </tr>\n",
       "  </tbody>\n",
       "</table>\n",
       "</div>"
      ],
      "text/plain": [
       "         Brands   Months          Total Units  vs. Prior Period\n",
       "0  #BlackSeries  08/2020  1,616.3390040000000               NaN\n",
       "1  #BlackSeries  09/2020                  NaN         -1.000000\n",
       "2  #BlackSeries  01/2021    715.5328380000000               NaN\n",
       "3  #BlackSeries  02/2021           766.669135          0.071466\n",
       "4  #BlackSeries  03/2021                  NaN         -1.000000"
      ]
     },
     "execution_count": 178,
     "metadata": {},
     "output_type": "execute_result"
    }
   ],
   "source": [
    "totalUnits.info()\n",
    "totalUnits.head(5)\n",
    "# find out how many brand do we have currently"
   ]
  },
  {
   "attachments": {},
   "cell_type": "markdown",
   "metadata": {},
   "source": [
    "### Clean the choosen dataset\n",
    "- Selected dataset: Total Sales\n",
    "- Breakdown: Base-on different brand\n",
    "- Reason: \n",
    "    - It contains more information about salses. \n",
    "    - It has much narrow data in brand features. "
   ]
  },
  {
   "attachments": {},
   "cell_type": "markdown",
   "metadata": {},
   "source": [
    "#### Preprocess the selected dataset"
   ]
  },
  {
   "cell_type": "code",
   "execution_count": 179,
   "metadata": {},
   "outputs": [
    {
     "name": "stdout",
     "output_type": "stream",
     "text": [
      "<class 'pandas.core.frame.DataFrame'>\n",
      "RangeIndex: 25279 entries, 0 to 25278\n",
      "Data columns (total 3 columns):\n",
      " #   Column           Non-Null Count  Dtype         \n",
      "---  ------           --------------  -----         \n",
      " 0   Months           25279 non-null  datetime64[ns]\n",
      " 1   Brand            25279 non-null  object        \n",
      " 2   Total Sales ($)  25279 non-null  float64       \n",
      "dtypes: datetime64[ns](1), float64(1), object(1)\n",
      "memory usage: 592.6+ KB\n"
     ]
    }
   ],
   "source": [
    "# convert the time stamp dataset\n",
    "totalSales[\"Months\"] = totalSales[\"Months\"].astype(str).astype('datetime64[ns]')\n",
    "# convert salses data to numerical data form\n",
    "totalSales[\"Total Sales ($)\"] = totalSales[\"Total Sales ($)\"].str.replace(',','')\n",
    "totalSales[\"Total Sales ($)\"] = totalSales[\"Total Sales ($)\"].astype(float)\n",
    "totalSales.info()"
   ]
  },
  {
   "attachments": {},
   "cell_type": "markdown",
   "metadata": {},
   "source": [
    "#### Find out all the brand name"
   ]
  },
  {
   "cell_type": "code",
   "execution_count": 180,
   "metadata": {},
   "outputs": [
    {
     "name": "stdout",
     "output_type": "stream",
     "text": [
      "==================================\n",
      "Total: 1627 different brands\n",
      "==================================\n"
     ]
    }
   ],
   "source": [
    "brands = list(totalSales[\"Brand\"].unique())\n",
    "print(\"==================================\")\n",
    "print(\"Total: {} different brands\".format(brands.__len__()))\n",
    "print(\"==================================\")"
   ]
  },
  {
   "attachments": {},
   "cell_type": "markdown",
   "metadata": {},
   "source": [
    "#### Select Brand with Enough Data\n",
    "- Start with the brand that has much information. "
   ]
  },
  {
   "cell_type": "code",
   "execution_count": 181,
   "metadata": {},
   "outputs": [
    {
     "name": "stdout",
     "output_type": "stream",
     "text": [
      "============Current Threshold for Number of Data: 37===========\n"
     ]
    },
    {
     "data": {
      "image/png": "[encoded data removed]",
      "text/plain": [
       "<Figure size 640x480 with 1 Axes>"
      ]
     },
     "metadata": {},
     "output_type": "display_data"
    }
   ],
   "source": [
    "import matplotlib.pyplot as plt\n",
    "# start with one of the brand\n",
    "# only list-out top three brand\n",
    "brands_data_num = pd.DataFrame()\n",
    "brands_data_num.loc[:, \"Brand\"] = totalSales.loc[:, \"Brand\"]\n",
    "brands_data_num.loc[:, \"Count\"] = [1]*len(totalSales[\"Brand\"])\n",
    "brands_data_num = brands_data_num.groupby([\"Brand\"]).sum().sort_values(\"Count\", ascending=False)\n",
    "\n",
    "# Only pick the brands with enough number of data\n",
    "numDataThreshold = brands_data_num[\"Count\"].max()\n",
    "print(\"============Current Threshold for Number of Data: {}===========\".format(numDataThreshold))\n",
    "brands_filtered = brands_data_num[brands_data_num.Count >= numDataThreshold]\n",
    "brands_filtered.head(10).plot(kind=\"bar\")\n",
    "plt.show()"
   ]
  },
  {
   "attachments": {},
   "cell_type": "markdown",
   "metadata": {},
   "source": [
    "### Feature Engineering \n",
    "- Transform and add more features in the selected dataset. \n",
    "- Add more features from other related datasets. "
   ]
  },
  {
   "attachments": {},
   "cell_type": "markdown",
   "metadata": {},
   "source": [
    "#### Sales info about selected brand"
   ]
  },
  {
   "cell_type": "code",
   "execution_count": 182,
   "metadata": {},
   "outputs": [],
   "source": [
    "brandName = brands_filtered.index[2]\n",
    "brandData = totalSales[totalSales.Brand == brandName].drop(['Brand'], 1)"
   ]
  },
  {
   "attachments": {},
   "cell_type": "markdown",
   "metadata": {},
   "source": [
    "#### Adding Features to Dataset"
   ]
  },
  {
   "cell_type": "code",
   "execution_count": 183,
   "metadata": {},
   "outputs": [
    {
     "data": {
      "text/html": [
       "<div>\n",
       "<style scoped>\n",
       "    .dataframe tbody tr th:only-of-type {\n",
       "        vertical-align: middle;\n",
       "    }\n",
       "\n",
       "    .dataframe tbody tr th {\n",
       "        vertical-align: top;\n",
       "    }\n",
       "\n",
       "    .dataframe thead th {\n",
       "        text-align: right;\n",
       "    }\n",
       "</style>\n",
       "<table border=\"1\" class=\"dataframe\">\n",
       "  <thead>\n",
       "    <tr style=\"text-align: right;\">\n",
       "      <th></th>\n",
       "      <th>Months</th>\n",
       "      <th>Total Sales ($)</th>\n",
       "      <th>Previous Month Sales</th>\n",
       "      <th>Rolling Sales (3 months)</th>\n",
       "      <th>Rolling Sales (6 months)</th>\n",
       "    </tr>\n",
       "  </thead>\n",
       "  <tbody>\n",
       "    <tr>\n",
       "      <th>97</th>\n",
       "      <td>2018-09-01</td>\n",
       "      <td>304936.750181</td>\n",
       "      <td>4.062828e+05</td>\n",
       "      <td>626537.153755</td>\n",
       "      <td>7.674090e+05</td>\n",
       "    </tr>\n",
       "    <tr>\n",
       "      <th>557</th>\n",
       "      <td>2018-10-01</td>\n",
       "      <td>406282.842541</td>\n",
       "      <td>6.100694e+05</td>\n",
       "      <td>747385.740716</td>\n",
       "      <td>8.514012e+05</td>\n",
       "    </tr>\n",
       "    <tr>\n",
       "      <th>1049</th>\n",
       "      <td>2018-11-01</td>\n",
       "      <td>610069.442623</td>\n",
       "      <td>8.632592e+05</td>\n",
       "      <td>936734.801876</td>\n",
       "      <td>9.190416e+05</td>\n",
       "    </tr>\n",
       "    <tr>\n",
       "      <th>1580</th>\n",
       "      <td>2018-12-01</td>\n",
       "      <td>863259.176100</td>\n",
       "      <td>7.688286e+05</td>\n",
       "      <td>908280.892597</td>\n",
       "      <td>9.193758e+05</td>\n",
       "    </tr>\n",
       "    <tr>\n",
       "      <th>2114</th>\n",
       "      <td>2019-01-01</td>\n",
       "      <td>768828.603426</td>\n",
       "      <td>1.178117e+06</td>\n",
       "      <td>955416.649863</td>\n",
       "      <td>1.037832e+06</td>\n",
       "    </tr>\n",
       "  </tbody>\n",
       "</table>\n",
       "</div>"
      ],
      "text/plain": [
       "         Months  Total Sales ($)  Previous Month Sales  \\\n",
       "97   2018-09-01    304936.750181          4.062828e+05   \n",
       "557  2018-10-01    406282.842541          6.100694e+05   \n",
       "1049 2018-11-01    610069.442623          8.632592e+05   \n",
       "1580 2018-12-01    863259.176100          7.688286e+05   \n",
       "2114 2019-01-01    768828.603426          1.178117e+06   \n",
       "\n",
       "      Rolling Sales (3 months)  Rolling Sales (6 months)  \n",
       "97               626537.153755              7.674090e+05  \n",
       "557              747385.740716              8.514012e+05  \n",
       "1049             936734.801876              9.190416e+05  \n",
       "1580             908280.892597              9.193758e+05  \n",
       "2114             955416.649863              1.037832e+06  "
      ]
     },
     "execution_count": 183,
     "metadata": {},
     "output_type": "execute_result"
    }
   ],
   "source": [
    "#  adding from current dataset \n",
    "#==============add last month data===============================================\n",
    "brandData.loc[:, 'Previous Month Sales'] = brandData.loc[:,\"Total Sales ($)\"].shift(-1)\n",
    "\n",
    "#===========Adding Rolling Sales Data===========\n",
    "# add rolling sales data (for three months)\n",
    "# calcualte the sum\n",
    "rollSum, rollMonths = 0, 3\n",
    "for month in range(1, rollMonths + 1): \n",
    "    rollSum += brandData.loc[:,\"Total Sales ($)\"].shift(-1 * month)\n",
    "brandData.loc[:, 'Rolling Sales (3 months)'] = rollSum / rollMonths\n",
    "\n",
    "# add rolling sales data (for six months)\n",
    "rollSum, rollMonths = 0, 6\n",
    "for month in range(1, rollMonths + 1): \n",
    "    rollSum += brandData.loc[:,\"Total Sales ($)\"].shift(-1 * month)\n",
    "brandData.loc[:, 'Rolling Sales (6 months)'] = rollSum / rollMonths\n",
    "\n",
    "brandData.head()"
   ]
  },
  {
   "attachments": {},
   "cell_type": "markdown",
   "metadata": {},
   "source": [
    "##### Add from total_unit dataset"
   ]
  },
  {
   "cell_type": "code",
   "execution_count": 184,
   "metadata": {},
   "outputs": [
    {
     "name": "stdout",
     "output_type": "stream",
     "text": [
      "<class 'pandas.core.frame.DataFrame'>\n",
      "Int64Index: 37 entries, 0 to 36\n",
      "Data columns (total 7 columns):\n",
      " #   Column                    Non-Null Count  Dtype         \n",
      "---  ------                    --------------  -----         \n",
      " 0   Months                    37 non-null     datetime64[ns]\n",
      " 1   Total Sales ($)           37 non-null     float64       \n",
      " 2   Previous Month Sales      36 non-null     float64       \n",
      " 3   Rolling Sales (3 months)  34 non-null     float64       \n",
      " 4   Rolling Sales (6 months)  31 non-null     float64       \n",
      " 5   Total Units               37 non-null     float64       \n",
      " 6   vs. Prior Period          37 non-null     float64       \n",
      "dtypes: datetime64[ns](1), float64(6)\n",
      "memory usage: 2.3 KB\n"
     ]
    }
   ],
   "source": [
    "# general info\n",
    "brandUnits = totalUnits[totalUnits.Brands == brandName]\n",
    "brandUnits[\"Months\"] = pd.to_datetime(brandUnits[\"Months\"])\n",
    "brandUnits[\"Total Units\"] = brandUnits[\"Total Units\"].str.replace(',','')\n",
    "brandUnits[\"Total Units\"] = brandUnits[\"Total Units\"].astype(float)\n",
    "brandUnits = brandUnits.drop(['Brands'], 1)\n",
    "#===================Merge Data==================\n",
    "brandData = brandData.merge(brandUnits, right_on=\"Months\", left_on=\"Months\")\n",
    "brandData.info()"
   ]
  },
  {
   "attachments": {},
   "cell_type": "markdown",
   "metadata": {},
   "source": [
    "##### Add from average retail price dataset"
   ]
  },
  {
   "cell_type": "code",
   "execution_count": 185,
   "metadata": {},
   "outputs": [
    {
     "data": {
      "text/html": [
       "<div>\n",
       "<style scoped>\n",
       "    .dataframe tbody tr th:only-of-type {\n",
       "        vertical-align: middle;\n",
       "    }\n",
       "\n",
       "    .dataframe tbody tr th {\n",
       "        vertical-align: top;\n",
       "    }\n",
       "\n",
       "    .dataframe thead th {\n",
       "        text-align: right;\n",
       "    }\n",
       "</style>\n",
       "<table border=\"1\" class=\"dataframe\">\n",
       "  <thead>\n",
       "    <tr style=\"text-align: right;\">\n",
       "      <th></th>\n",
       "      <th>Months</th>\n",
       "      <th>Total Sales ($)</th>\n",
       "      <th>Previous Month Sales</th>\n",
       "      <th>Rolling Sales (3 months)</th>\n",
       "      <th>Rolling Sales (6 months)</th>\n",
       "      <th>Total Units</th>\n",
       "      <th>vs. Prior Period (Totla Units)</th>\n",
       "      <th>ARP</th>\n",
       "      <th>vs. Prior Period (ARP)</th>\n",
       "    </tr>\n",
       "  </thead>\n",
       "  <tbody>\n",
       "    <tr>\n",
       "      <th>0</th>\n",
       "      <td>2018-09-01</td>\n",
       "      <td>3.049368e+05</td>\n",
       "      <td>4.062828e+05</td>\n",
       "      <td>6.265372e+05</td>\n",
       "      <td>7.674090e+05</td>\n",
       "      <td>28596.673305</td>\n",
       "      <td>-0.516234</td>\n",
       "      <td>10.663364</td>\n",
       "      <td>NaN</td>\n",
       "    </tr>\n",
       "    <tr>\n",
       "      <th>1</th>\n",
       "      <td>2018-10-01</td>\n",
       "      <td>4.062828e+05</td>\n",
       "      <td>6.100694e+05</td>\n",
       "      <td>7.473857e+05</td>\n",
       "      <td>8.514012e+05</td>\n",
       "      <td>38675.748698</td>\n",
       "      <td>0.352456</td>\n",
       "      <td>10.504848</td>\n",
       "      <td>-0.014866</td>\n",
       "    </tr>\n",
       "    <tr>\n",
       "      <th>2</th>\n",
       "      <td>2018-11-01</td>\n",
       "      <td>6.100694e+05</td>\n",
       "      <td>8.632592e+05</td>\n",
       "      <td>9.367348e+05</td>\n",
       "      <td>9.190416e+05</td>\n",
       "      <td>56451.526425</td>\n",
       "      <td>0.459610</td>\n",
       "      <td>10.806961</td>\n",
       "      <td>0.028759</td>\n",
       "    </tr>\n",
       "    <tr>\n",
       "      <th>3</th>\n",
       "      <td>2018-12-01</td>\n",
       "      <td>8.632592e+05</td>\n",
       "      <td>7.688286e+05</td>\n",
       "      <td>9.082809e+05</td>\n",
       "      <td>9.193758e+05</td>\n",
       "      <td>83177.778198</td>\n",
       "      <td>0.473437</td>\n",
       "      <td>10.378483</td>\n",
       "      <td>-0.039648</td>\n",
       "    </tr>\n",
       "    <tr>\n",
       "      <th>4</th>\n",
       "      <td>2019-01-01</td>\n",
       "      <td>7.688286e+05</td>\n",
       "      <td>1.178117e+06</td>\n",
       "      <td>9.554166e+05</td>\n",
       "      <td>1.037832e+06</td>\n",
       "      <td>68912.534404</td>\n",
       "      <td>-0.171503</td>\n",
       "      <td>11.156586</td>\n",
       "      <td>0.074973</td>\n",
       "    </tr>\n",
       "    <tr>\n",
       "      <th>5</th>\n",
       "      <td>2019-02-01</td>\n",
       "      <td>1.178117e+06</td>\n",
       "      <td>7.778974e+05</td>\n",
       "      <td>9.013483e+05</td>\n",
       "      <td>1.132119e+06</td>\n",
       "      <td>112063.453044</td>\n",
       "      <td>0.626169</td>\n",
       "      <td>10.512942</td>\n",
       "      <td>-0.057692</td>\n",
       "    </tr>\n",
       "    <tr>\n",
       "      <th>6</th>\n",
       "      <td>2019-03-01</td>\n",
       "      <td>7.778974e+05</td>\n",
       "      <td>9.102359e+05</td>\n",
       "      <td>9.304706e+05</td>\n",
       "      <td>1.286051e+06</td>\n",
       "      <td>69077.125447</td>\n",
       "      <td>-0.383589</td>\n",
       "      <td>11.261289</td>\n",
       "      <td>0.071183</td>\n",
       "    </tr>\n",
       "    <tr>\n",
       "      <th>7</th>\n",
       "      <td>2019-04-01</td>\n",
       "      <td>9.102359e+05</td>\n",
       "      <td>1.015912e+06</td>\n",
       "      <td>1.120247e+06</td>\n",
       "      <td>1.480665e+06</td>\n",
       "      <td>84807.893325</td>\n",
       "      <td>0.227728</td>\n",
       "      <td>10.732915</td>\n",
       "      <td>-0.046920</td>\n",
       "    </tr>\n",
       "    <tr>\n",
       "      <th>8</th>\n",
       "      <td>2019-05-01</td>\n",
       "      <td>1.015912e+06</td>\n",
       "      <td>8.652644e+05</td>\n",
       "      <td>1.362891e+06</td>\n",
       "      <td>1.677053e+06</td>\n",
       "      <td>86636.133978</td>\n",
       "      <td>0.021557</td>\n",
       "      <td>11.726189</td>\n",
       "      <td>0.092545</td>\n",
       "    </tr>\n",
       "    <tr>\n",
       "      <th>9</th>\n",
       "      <td>2019-06-01</td>\n",
       "      <td>8.652644e+05</td>\n",
       "      <td>1.479564e+06</td>\n",
       "      <td>1.641632e+06</td>\n",
       "      <td>1.895434e+06</td>\n",
       "      <td>77104.506326</td>\n",
       "      <td>-0.110019</td>\n",
       "      <td>11.221969</td>\n",
       "      <td>-0.042999</td>\n",
       "    </tr>\n",
       "  </tbody>\n",
       "</table>\n",
       "</div>"
      ],
      "text/plain": [
       "      Months  Total Sales ($)  Previous Month Sales  Rolling Sales (3 months)  \\\n",
       "0 2018-09-01     3.049368e+05          4.062828e+05              6.265372e+05   \n",
       "1 2018-10-01     4.062828e+05          6.100694e+05              7.473857e+05   \n",
       "2 2018-11-01     6.100694e+05          8.632592e+05              9.367348e+05   \n",
       "3 2018-12-01     8.632592e+05          7.688286e+05              9.082809e+05   \n",
       "4 2019-01-01     7.688286e+05          1.178117e+06              9.554166e+05   \n",
       "5 2019-02-01     1.178117e+06          7.778974e+05              9.013483e+05   \n",
       "6 2019-03-01     7.778974e+05          9.102359e+05              9.304706e+05   \n",
       "7 2019-04-01     9.102359e+05          1.015912e+06              1.120247e+06   \n",
       "8 2019-05-01     1.015912e+06          8.652644e+05              1.362891e+06   \n",
       "9 2019-06-01     8.652644e+05          1.479564e+06              1.641632e+06   \n",
       "\n",
       "   Rolling Sales (6 months)    Total Units  vs. Prior Period (Totla Units)  \\\n",
       "0              7.674090e+05   28596.673305                       -0.516234   \n",
       "1              8.514012e+05   38675.748698                        0.352456   \n",
       "2              9.190416e+05   56451.526425                        0.459610   \n",
       "3              9.193758e+05   83177.778198                        0.473437   \n",
       "4              1.037832e+06   68912.534404                       -0.171503   \n",
       "5              1.132119e+06  112063.453044                        0.626169   \n",
       "6              1.286051e+06   69077.125447                       -0.383589   \n",
       "7              1.480665e+06   84807.893325                        0.227728   \n",
       "8              1.677053e+06   86636.133978                        0.021557   \n",
       "9              1.895434e+06   77104.506326                       -0.110019   \n",
       "\n",
       "         ARP  vs. Prior Period (ARP)  \n",
       "0  10.663364                     NaN  \n",
       "1  10.504848               -0.014866  \n",
       "2  10.806961                0.028759  \n",
       "3  10.378483               -0.039648  \n",
       "4  11.156586                0.074973  \n",
       "5  10.512942               -0.057692  \n",
       "6  11.261289                0.071183  \n",
       "7  10.732915               -0.046920  \n",
       "8  11.726189                0.092545  \n",
       "9  11.221969               -0.042999  "
      ]
     },
     "execution_count": 185,
     "metadata": {},
     "output_type": "execute_result"
    }
   ],
   "source": [
    "# Convert months column data into datetime\n",
    "brandARP = avgRetail[avgRetail.Brands == brandName].drop(['Brands'], 1)\n",
    "brandARP[\"Months\"] = pd.to_datetime(brandARP[\"Months\"])\n",
    "# rename the features name\n",
    "# since in the total_units dataset, ther is also a feature\n",
    "# called \"vs. Prior Period\"\n",
    "brandARP = brandARP.rename(columns={\"vs. Prior Period\" : \"vs. Prior Period (ARP)\"})\n",
    "\n",
    "# merge the feature into the sales dataset)\n",
    "brandData = brandData.merge(brandARP, left_on=\"Months\", right_on=\"Months\")\n",
    "brandData = brandData.rename(columns={\"vs. Prior Period\" : \"vs. Prior Period (Totla Units)\"})\n",
    "brandData.head(10)"
   ]
  },
  {
   "attachments": {},
   "cell_type": "markdown",
   "metadata": {},
   "source": [
    "##### Add from brand details dataset"
   ]
  },
  {
   "cell_type": "code",
   "execution_count": 186,
   "metadata": {},
   "outputs": [
    {
     "name": "stdout",
     "output_type": "stream",
     "text": [
      "State\n",
      "Channel\n",
      "Category L1\n",
      "Category L2\n",
      "Category L3\n",
      "Category L4\n",
      "Category L5\n",
      "Brand\n",
      "Product Description\n",
      "Total Sales ($)\n",
      "Total Units\n",
      "ARP\n",
      "Flavor\n",
      "Items Per Pack\n",
      "Item Weight\n",
      "Total THC\n",
      "Total CBD\n",
      "Contains CBD\n",
      "Pax Filter\n",
      "Strain\n",
      "Is Flavored\n",
      "Mood Effect\n",
      "Generic Vendor\n",
      "Generic Items\n",
      "$5 Price Increment\n"
     ]
    }
   ],
   "source": [
    "import numpy as np\n",
    "# info aobut brain details\n",
    "bdData = brandDetail[brandDetail.Brand == brandName]\n",
    "\n",
    "bdColNames = bdData.columns.tolist()\n",
    "for feature in bdColNames: \n",
    "    print(feature)"
   ]
  },
  {
   "cell_type": "code",
   "execution_count": 187,
   "metadata": {},
   "outputs": [
    {
     "data": {
      "text/html": [
       "<div>\n",
       "<style scoped>\n",
       "    .dataframe tbody tr th:only-of-type {\n",
       "        vertical-align: middle;\n",
       "    }\n",
       "\n",
       "    .dataframe tbody tr th {\n",
       "        vertical-align: top;\n",
       "    }\n",
       "\n",
       "    .dataframe thead th {\n",
       "        text-align: right;\n",
       "    }\n",
       "</style>\n",
       "<table border=\"1\" class=\"dataframe\">\n",
       "  <thead>\n",
       "    <tr style=\"text-align: right;\">\n",
       "      <th></th>\n",
       "      <th>State</th>\n",
       "      <th>Channel</th>\n",
       "      <th>Category L1</th>\n",
       "      <th>Category L2</th>\n",
       "      <th>Category L3</th>\n",
       "      <th>Category L4</th>\n",
       "      <th>Category L5</th>\n",
       "      <th>Brand</th>\n",
       "      <th>Product Description</th>\n",
       "      <th>Total Sales ($)</th>\n",
       "      <th>...</th>\n",
       "      <th>Total THC</th>\n",
       "      <th>Total CBD</th>\n",
       "      <th>Contains CBD</th>\n",
       "      <th>Pax Filter</th>\n",
       "      <th>Strain</th>\n",
       "      <th>Is Flavored</th>\n",
       "      <th>Mood Effect</th>\n",
       "      <th>Generic Vendor</th>\n",
       "      <th>Generic Items</th>\n",
       "      <th>$5 Price Increment</th>\n",
       "    </tr>\n",
       "  </thead>\n",
       "  <tbody>\n",
       "    <tr>\n",
       "      <th>0</th>\n",
       "      <td>California</td>\n",
       "      <td>Licensed</td>\n",
       "      <td>Inhaleables</td>\n",
       "      <td>Flower</td>\n",
       "      <td>Hybrid</td>\n",
       "      <td>NaN</td>\n",
       "      <td>NaN</td>\n",
       "      <td>#BlackSeries</td>\n",
       "      <td>#BlackSeries - Vanilla Frosting - Flower (Gram)</td>\n",
       "      <td>1,103.964857</td>\n",
       "      <td>...</td>\n",
       "      <td>0</td>\n",
       "      <td>0</td>\n",
       "      <td>THC Only</td>\n",
       "      <td>NaN</td>\n",
       "      <td>Vanilla Frosting</td>\n",
       "      <td>NaN</td>\n",
       "      <td>Not Mood Specific</td>\n",
       "      <td>Non-Generic Vendors</td>\n",
       "      <td>Non-Generic Items</td>\n",
       "      <td>$10.00 to $14.99</td>\n",
       "    </tr>\n",
       "    <tr>\n",
       "      <th>1</th>\n",
       "      <td>California</td>\n",
       "      <td>Licensed</td>\n",
       "      <td>Inhaleables</td>\n",
       "      <td>Flower</td>\n",
       "      <td>Hybrid</td>\n",
       "      <td>NaN</td>\n",
       "      <td>NaN</td>\n",
       "      <td>#BlackSeries</td>\n",
       "      <td>#BlackSeries - Vanilla Frosting - Flower (Gram)</td>\n",
       "      <td>674.645211</td>\n",
       "      <td>...</td>\n",
       "      <td>0</td>\n",
       "      <td>0</td>\n",
       "      <td>THC Only</td>\n",
       "      <td>NaN</td>\n",
       "      <td>Vanilla Frosting</td>\n",
       "      <td>NaN</td>\n",
       "      <td>Not Mood Specific</td>\n",
       "      <td>Non-Generic Vendors</td>\n",
       "      <td>Non-Generic Items</td>\n",
       "      <td>$15.00 to $19.99</td>\n",
       "    </tr>\n",
       "    <tr>\n",
       "      <th>2</th>\n",
       "      <td>California</td>\n",
       "      <td>Licensed</td>\n",
       "      <td>Inhaleables</td>\n",
       "      <td>Flower</td>\n",
       "      <td>Sativa Dominant</td>\n",
       "      <td>NaN</td>\n",
       "      <td>NaN</td>\n",
       "      <td>#BlackSeries</td>\n",
       "      <td>#BlackSeries - Blueberry Slushy - Flower (Gram)</td>\n",
       "      <td>2,473.699102</td>\n",
       "      <td>...</td>\n",
       "      <td>0</td>\n",
       "      <td>0</td>\n",
       "      <td>THC Only</td>\n",
       "      <td>NaN</td>\n",
       "      <td>Blueberry Slushy</td>\n",
       "      <td>NaN</td>\n",
       "      <td>Not Mood Specific</td>\n",
       "      <td>Non-Generic Vendors</td>\n",
       "      <td>Non-Generic Items</td>\n",
       "      <td>$15.00 to $19.99</td>\n",
       "    </tr>\n",
       "    <tr>\n",
       "      <th>3</th>\n",
       "      <td>California</td>\n",
       "      <td>Licensed</td>\n",
       "      <td>Inhaleables</td>\n",
       "      <td>Flower</td>\n",
       "      <td>Sativa Dominant</td>\n",
       "      <td>NaN</td>\n",
       "      <td>NaN</td>\n",
       "      <td>#BlackSeries</td>\n",
       "      <td>#BlackSeries - Blueberry Slushy - Flower (Gram)</td>\n",
       "      <td>14,589.916417</td>\n",
       "      <td>...</td>\n",
       "      <td>0</td>\n",
       "      <td>0</td>\n",
       "      <td>THC Only</td>\n",
       "      <td>NaN</td>\n",
       "      <td>Blueberry Slushy</td>\n",
       "      <td>NaN</td>\n",
       "      <td>Not Mood Specific</td>\n",
       "      <td>Non-Generic Vendors</td>\n",
       "      <td>Non-Generic Items</td>\n",
       "      <td>$10.00 to $14.99</td>\n",
       "    </tr>\n",
       "    <tr>\n",
       "      <th>4</th>\n",
       "      <td>California</td>\n",
       "      <td>Licensed</td>\n",
       "      <td>Inhaleables</td>\n",
       "      <td>Concentrates</td>\n",
       "      <td>Dabbable Concentrates</td>\n",
       "      <td>Wax</td>\n",
       "      <td>NaN</td>\n",
       "      <td>101 Cannabis Co.</td>\n",
       "      <td>101 Cannabis Co. - Afghan Kush - Wax</td>\n",
       "      <td>145.39627</td>\n",
       "      <td>...</td>\n",
       "      <td>0</td>\n",
       "      <td>0</td>\n",
       "      <td>THC Only</td>\n",
       "      <td>NaN</td>\n",
       "      <td>Afghan Kush</td>\n",
       "      <td>NaN</td>\n",
       "      <td>Not Mood Specific</td>\n",
       "      <td>Non-Generic Vendors</td>\n",
       "      <td>Non-Generic Items</td>\n",
       "      <td>$35.00 to $39.99</td>\n",
       "    </tr>\n",
       "  </tbody>\n",
       "</table>\n",
       "<p>5 rows × 25 columns</p>\n",
       "</div>"
      ],
      "text/plain": [
       "        State   Channel  Category L1   Category L2            Category L3  \\\n",
       "0  California  Licensed  Inhaleables        Flower                 Hybrid   \n",
       "1  California  Licensed  Inhaleables        Flower                 Hybrid   \n",
       "2  California  Licensed  Inhaleables        Flower        Sativa Dominant   \n",
       "3  California  Licensed  Inhaleables        Flower        Sativa Dominant   \n",
       "4  California  Licensed  Inhaleables  Concentrates  Dabbable Concentrates   \n",
       "\n",
       "  Category L4 Category L5             Brand  \\\n",
       "0         NaN         NaN      #BlackSeries   \n",
       "1         NaN         NaN      #BlackSeries   \n",
       "2         NaN         NaN      #BlackSeries   \n",
       "3         NaN         NaN      #BlackSeries   \n",
       "4         Wax         NaN  101 Cannabis Co.   \n",
       "\n",
       "                               Product Description Total Sales ($)  ...  \\\n",
       "0  #BlackSeries - Vanilla Frosting - Flower (Gram)    1,103.964857  ...   \n",
       "1  #BlackSeries - Vanilla Frosting - Flower (Gram)      674.645211  ...   \n",
       "2  #BlackSeries - Blueberry Slushy - Flower (Gram)    2,473.699102  ...   \n",
       "3  #BlackSeries - Blueberry Slushy - Flower (Gram)   14,589.916417  ...   \n",
       "4             101 Cannabis Co. - Afghan Kush - Wax       145.39627  ...   \n",
       "\n",
       "  Total THC  Total CBD Contains CBD  Pax Filter            Strain Is Flavored  \\\n",
       "0         0          0     THC Only         NaN  Vanilla Frosting         NaN   \n",
       "1         0          0     THC Only         NaN  Vanilla Frosting         NaN   \n",
       "2         0          0     THC Only         NaN  Blueberry Slushy         NaN   \n",
       "3         0          0     THC Only         NaN  Blueberry Slushy         NaN   \n",
       "4         0          0     THC Only         NaN       Afghan Kush         NaN   \n",
       "\n",
       "         Mood Effect       Generic Vendor      Generic Items  \\\n",
       "0  Not Mood Specific  Non-Generic Vendors  Non-Generic Items   \n",
       "1  Not Mood Specific  Non-Generic Vendors  Non-Generic Items   \n",
       "2  Not Mood Specific  Non-Generic Vendors  Non-Generic Items   \n",
       "3  Not Mood Specific  Non-Generic Vendors  Non-Generic Items   \n",
       "4  Not Mood Specific  Non-Generic Vendors  Non-Generic Items   \n",
       "\n",
       "  $5 Price Increment  \n",
       "0   $10.00 to $14.99  \n",
       "1   $15.00 to $19.99  \n",
       "2   $15.00 to $19.99  \n",
       "3   $10.00 to $14.99  \n",
       "4   $35.00 to $39.99  \n",
       "\n",
       "[5 rows x 25 columns]"
      ]
     },
     "execution_count": 187,
     "metadata": {},
     "output_type": "execute_result"
    }
   ],
   "source": [
    "brandDetail.head()"
   ]
  },
  {
   "cell_type": "code",
   "execution_count": 255,
   "metadata": {},
   "outputs": [
    {
     "name": "stdout",
     "output_type": "stream",
     "text": [
      "<class 'pandas.core.series.Series'>\n",
      "RangeIndex: 144977 entries, 0 to 144976\n",
      "Series name: $5 Price Increment\n",
      "Non-Null Count   Dtype \n",
      "--------------   ----- \n",
      "144977 non-null  object\n",
      "dtypes: object(1)\n",
      "memory usage: 1.1+ MB\n"
     ]
    }
   ],
   "source": [
    "brandDetail[\"$5 Price Increment\"].info()"
   ]
  },
  {
   "attachments": {},
   "cell_type": "markdown",
   "metadata": {},
   "source": [
    "##### L1 Category Analysis \n",
    "- Find out which type of products has largest portion in the total sales\n",
    "- Conclusion: \n",
    "    1. Inhaleables and Ingestibles type of product has the largest portion of income sales. \n",
    "    2. It will make inhaleables and ingestibles an important features for the model. \n",
    "- Action: \n",
    "    1. Adding \"Inhaleables\" and \"Ingestibles\" as new feature in the dataaset. "
   ]
  },
  {
   "cell_type": "code",
   "execution_count": 188,
   "metadata": {},
   "outputs": [
    {
     "data": {
      "image/png": "[encoded data removed]",
      "text/plain": [
       "<Figure size 640x480 with 1 Axes>"
      ]
     },
     "metadata": {},
     "output_type": "display_data"
    },
    {
     "data": {
      "image/png": "[encoded data removed]",
      "text/plain": [
       "<Figure size 640x480 with 1 Axes>"
      ]
     },
     "metadata": {},
     "output_type": "display_data"
    }
   ],
   "source": [
    "# Find percentage of the Inhaleable and Ingestible product in current selected brand\n",
    "brandSales = pd.DataFrame()\n",
    "studyData = bdData.copy()\n",
    "brandSales.loc[:, \"Category\"] = studyData.loc[:, \"Category L1\"]\n",
    "brandSales.loc[:, \"Sales\"] = studyData.loc[:, \"Total Sales ($)\"].str.replace(',', '').astype(float)\n",
    "brandSales = brandSales.groupby(by=\"Category\").sum()\n",
    "brandSalesIndex = brandSales.index\n",
    "colors = sns.color_palette('pastel')[0:5]\n",
    "plt.pie(brandSales[\"Sales\"], labels=brandSalesIndex, colors=colors, autopct='%.0f%%')\n",
    "plt.title(\"Sales of Each Type of Product in: \" + brandName)\n",
    "plt.show()\n",
    "\n",
    "# Find percentage of the Inhaleable and Ingestible product in all brand\n",
    "brandSalesAll = pd.DataFrame()\n",
    "studyData = brandDetail.copy()\n",
    "brandSalesAll.loc[:, \"Category\"] = studyData.loc[:, \"Category L1\"]\n",
    "brandSalesAll.loc[:, \"Sales\"] = studyData.loc[:, \"Total Sales ($)\"].str.replace(',', '').astype(float)\n",
    "brandSalesAll = brandSalesAll.groupby(by=\"Category\").sum()\n",
    "brandSalesAllIndex = brandSalesAll.index\n",
    "colors = sns.color_palette('pastel')[0:5]\n",
    "plt.pie(brandSalesAll[\"Sales\"], labels=brandSalesAllIndex, colors=colors, autopct='%.0f%%')\n",
    "plt.title(\"Sales of Each Type of Product in All brands\")\n",
    "plt.show()"
   ]
  },
  {
   "cell_type": "code",
   "execution_count": 189,
   "metadata": {},
   "outputs": [
    {
     "data": {
      "text/html": [
       "<div>\n",
       "<style scoped>\n",
       "    .dataframe tbody tr th:only-of-type {\n",
       "        vertical-align: middle;\n",
       "    }\n",
       "\n",
       "    .dataframe tbody tr th {\n",
       "        vertical-align: top;\n",
       "    }\n",
       "\n",
       "    .dataframe thead th {\n",
       "        text-align: right;\n",
       "    }\n",
       "</style>\n",
       "<table border=\"1\" class=\"dataframe\">\n",
       "  <thead>\n",
       "    <tr style=\"text-align: right;\">\n",
       "      <th></th>\n",
       "      <th>Months</th>\n",
       "      <th>Total Sales ($)</th>\n",
       "      <th>Previous Month Sales</th>\n",
       "      <th>Rolling Sales (3 months)</th>\n",
       "      <th>Rolling Sales (6 months)</th>\n",
       "      <th>Total Units</th>\n",
       "      <th>vs. Prior Period (Totla Units)</th>\n",
       "      <th>ARP</th>\n",
       "      <th>vs. Prior Period (ARP)</th>\n",
       "      <th>Inhaleables</th>\n",
       "      <th>Ingestibles</th>\n",
       "    </tr>\n",
       "  </thead>\n",
       "  <tbody>\n",
       "    <tr>\n",
       "      <th>0</th>\n",
       "      <td>2018-09-01</td>\n",
       "      <td>304936.750181</td>\n",
       "      <td>4.062828e+05</td>\n",
       "      <td>626537.153755</td>\n",
       "      <td>7.674090e+05</td>\n",
       "      <td>28596.673305</td>\n",
       "      <td>-0.516234</td>\n",
       "      <td>10.663364</td>\n",
       "      <td>NaN</td>\n",
       "      <td>1</td>\n",
       "      <td>1</td>\n",
       "    </tr>\n",
       "    <tr>\n",
       "      <th>1</th>\n",
       "      <td>2018-10-01</td>\n",
       "      <td>406282.842541</td>\n",
       "      <td>6.100694e+05</td>\n",
       "      <td>747385.740716</td>\n",
       "      <td>8.514012e+05</td>\n",
       "      <td>38675.748698</td>\n",
       "      <td>0.352456</td>\n",
       "      <td>10.504848</td>\n",
       "      <td>-0.014866</td>\n",
       "      <td>1</td>\n",
       "      <td>1</td>\n",
       "    </tr>\n",
       "    <tr>\n",
       "      <th>2</th>\n",
       "      <td>2018-11-01</td>\n",
       "      <td>610069.442623</td>\n",
       "      <td>8.632592e+05</td>\n",
       "      <td>936734.801876</td>\n",
       "      <td>9.190416e+05</td>\n",
       "      <td>56451.526425</td>\n",
       "      <td>0.459610</td>\n",
       "      <td>10.806961</td>\n",
       "      <td>0.028759</td>\n",
       "      <td>1</td>\n",
       "      <td>1</td>\n",
       "    </tr>\n",
       "    <tr>\n",
       "      <th>3</th>\n",
       "      <td>2018-12-01</td>\n",
       "      <td>863259.176100</td>\n",
       "      <td>7.688286e+05</td>\n",
       "      <td>908280.892597</td>\n",
       "      <td>9.193758e+05</td>\n",
       "      <td>83177.778198</td>\n",
       "      <td>0.473437</td>\n",
       "      <td>10.378483</td>\n",
       "      <td>-0.039648</td>\n",
       "      <td>1</td>\n",
       "      <td>1</td>\n",
       "    </tr>\n",
       "    <tr>\n",
       "      <th>4</th>\n",
       "      <td>2019-01-01</td>\n",
       "      <td>768828.603426</td>\n",
       "      <td>1.178117e+06</td>\n",
       "      <td>955416.649863</td>\n",
       "      <td>1.037832e+06</td>\n",
       "      <td>68912.534404</td>\n",
       "      <td>-0.171503</td>\n",
       "      <td>11.156586</td>\n",
       "      <td>0.074973</td>\n",
       "      <td>1</td>\n",
       "      <td>1</td>\n",
       "    </tr>\n",
       "  </tbody>\n",
       "</table>\n",
       "</div>"
      ],
      "text/plain": [
       "      Months  Total Sales ($)  Previous Month Sales  Rolling Sales (3 months)  \\\n",
       "0 2018-09-01    304936.750181          4.062828e+05             626537.153755   \n",
       "1 2018-10-01    406282.842541          6.100694e+05             747385.740716   \n",
       "2 2018-11-01    610069.442623          8.632592e+05             936734.801876   \n",
       "3 2018-12-01    863259.176100          7.688286e+05             908280.892597   \n",
       "4 2019-01-01    768828.603426          1.178117e+06             955416.649863   \n",
       "\n",
       "   Rolling Sales (6 months)   Total Units  vs. Prior Period (Totla Units)  \\\n",
       "0              7.674090e+05  28596.673305                       -0.516234   \n",
       "1              8.514012e+05  38675.748698                        0.352456   \n",
       "2              9.190416e+05  56451.526425                        0.459610   \n",
       "3              9.193758e+05  83177.778198                        0.473437   \n",
       "4              1.037832e+06  68912.534404                       -0.171503   \n",
       "\n",
       "         ARP  vs. Prior Period (ARP)  Inhaleables  Ingestibles  \n",
       "0  10.663364                     NaN            1            1  \n",
       "1  10.504848               -0.014866            1            1  \n",
       "2  10.806961                0.028759            1            1  \n",
       "3  10.378483               -0.039648            1            1  \n",
       "4  11.156586                0.074973            1            1  "
      ]
     },
     "execution_count": 189,
     "metadata": {},
     "output_type": "execute_result"
    }
   ],
   "source": [
    "# adding L1 Inhaleables and Ingestible into the datasets\n",
    "brandData.loc[:, \"Inhaleables\"] = int(\"Inhaleables\" in brandDetail[\"Category L1\"].values)\n",
    "brandData.loc[:, \"Ingestibles\"] = int(\"Ingestibles\" in brandDetail[\"Category L1\"].values)\n",
    "brandData.head()"
   ]
  },
  {
   "attachments": {},
   "cell_type": "markdown",
   "metadata": {},
   "source": [
    "##### Previous Salese Correlation\n",
    "- Features \n",
    "    1. Previos Sales\n",
    "    2. 3 months rolling sales\n",
    "    3. 6 months rolling sales\n",
    "- Conclusion: All three features have strong correlation to each other"
   ]
  },
  {
   "cell_type": "code",
   "execution_count": 253,
   "metadata": {},
   "outputs": [
    {
     "data": {
      "image/png": "[encoded data removed]",
      "text/plain": [
       "<Figure size 700x1200 with 3 Axes>"
      ]
     },
     "metadata": {},
     "output_type": "display_data"
    }
   ],
   "source": [
    "# previous sales\n",
    "fig, axis = plt.subplots(3, 1, figsize=(7, 12))\n",
    "brandData.plot.line(y=\"Total Sales ($)\", ax=axis[0])\n",
    "brandData.plot.line(y=\"Previous Month Sales\", ax=axis[0])\n",
    "\n",
    "brandData.plot.line(y=\"Total Sales ($)\", ax=axis[1])\n",
    "brandData.plot.line(y=\"Rolling Sales (3 months)\", ax=axis[1])\n",
    "\n",
    "brandData.plot.line(y=\"Total Sales ($)\", ax=axis[2])\n",
    "brandData.plot.line(y=\"Rolling Sales (6 months)\", ax=axis[2])\n",
    "plt.show()"
   ]
  },
  {
   "attachments": {},
   "cell_type": "markdown",
   "metadata": {},
   "source": [
    "## Explore Data \n",
    "- Visualize Data \n",
    "- Explore data (correlation)\n",
    "- Objective of features combination"
   ]
  },
  {
   "cell_type": "code",
   "execution_count": 190,
   "metadata": {},
   "outputs": [
    {
     "name": "stdout",
     "output_type": "stream",
     "text": [
      "<class 'pandas.core.frame.DataFrame'>\n",
      "Int64Index: 37 entries, 0 to 36\n",
      "Data columns (total 11 columns):\n",
      " #   Column                          Non-Null Count  Dtype         \n",
      "---  ------                          --------------  -----         \n",
      " 0   Months                          37 non-null     datetime64[ns]\n",
      " 1   Total Sales ($)                 37 non-null     float64       \n",
      " 2   Previous Month Sales            36 non-null     float64       \n",
      " 3   Rolling Sales (3 months)        34 non-null     float64       \n",
      " 4   Rolling Sales (6 months)        31 non-null     float64       \n",
      " 5   Total Units                     37 non-null     float64       \n",
      " 6   vs. Prior Period (Totla Units)  37 non-null     float64       \n",
      " 7   ARP                             37 non-null     float64       \n",
      " 8   vs. Prior Period (ARP)          36 non-null     float64       \n",
      " 9   Inhaleables                     37 non-null     int64         \n",
      " 10  Ingestibles                     37 non-null     int64         \n",
      "dtypes: datetime64[ns](1), float64(8), int64(2)\n",
      "memory usage: 3.5 KB\n"
     ]
    }
   ],
   "source": [
    "import matplotlib.pyplot as plt\n",
    "import seaborn as sns\n",
    "brandData.info()"
   ]
  },
  {
   "cell_type": "code",
   "execution_count": null,
   "metadata": {},
   "outputs": [],
   "source": [
    "# "
   ]
  },
  {
   "attachments": {},
   "cell_type": "markdown",
   "metadata": {},
   "source": [
    "## Data Preprocessing\n",
    "- Develope several pipeline\n",
    "- Visualize pipelines \n",
    "- (pipeline update -- base on training result) "
   ]
  },
  {
   "attachments": {},
   "cell_type": "markdown",
   "metadata": {},
   "source": [
    "### Create Preprocessing Pipelines"
   ]
  },
  {
   "cell_type": "code",
   "execution_count": 196,
   "metadata": {},
   "outputs": [],
   "source": [
    "from sklearn.pipeline import Pipeline, make_pipeline\n",
    "from sklearn.impute import SimpleImputer, KNNImputer\n",
    "from sklearn.preprocessing import StandardScaler\n",
    "from sklearn.preprocessing import OrdinalEncoder, OneHotEncoder\n",
    "from sklearn.compose import ColumnTransformer, make_column_selector\n",
    "\n",
    "#=================Individal Pipeline===================\n",
    "#******************Sales data******************\n",
    "sales_features = [\n",
    "    \"Total Sales ($)\", \n",
    "    \"Previous Month Sales\", \n",
    "    \"Rolling Sales (3 months)\", \n",
    "    \"Rolling Sales (6 months)\", \n",
    "    \"ARP\", \n",
    "    \"vs. Prior Period (ARP)\"\n",
    "]\n",
    "sales_pipeline = make_pipeline(\n",
    "    SimpleImputer(strategy=\"mean\"), \n",
    "    StandardScaler() # normalize data\n",
    ")\n",
    "\n",
    "#******************Units data******************\n",
    "units_features = [\n",
    "    \"Total Units\",\n",
    "    \"vs. Prior Period (Totla Units)\"\n",
    "]\n",
    "units_pipeline = make_pipeline(\n",
    "    SimpleImputer(strategy=\"median\"), \n",
    "    StandardScaler() # normalize data\n",
    ")\n",
    "\n",
    "#*****************Product data******************\n",
    "productType_features = [\n",
    "    \"Inhaleables\", \n",
    "    \"Ingestibles\"\n",
    "]\n",
    "productType_pipeline = make_pipeline(\n",
    "    KNNImputer(n_neighbors=2), \n",
    "    StandardScaler()\n",
    ")\n",
    "\n",
    "#***************Default Pipelien*****************\n",
    "# for numerical and category specifically\n",
    "num_pipeline = make_pipeline(\n",
    "    SimpleImputer(strategy=\"mean\"), \n",
    "    StandardScaler()\n",
    ")\n",
    "cat_pipeline = make_pipeline(\n",
    "    SimpleImputer(strategy=\"most_frequent\"), \n",
    "    OrdinalEncoder(),\n",
    "    StandardScaler()\n",
    ")\n",
    "\n",
    "#======================Final Preprocess Pipeline======================\n",
    "preprocess = ColumnTransformer([\n",
    "    (\"Sales\", sales_pipeline, sales_features),  # sales features pipeline\n",
    "    (\"Units\", units_pipeline, units_features),  # total units features pipeline\n",
    "    (\"Product_type\", productType_pipeline, productType_features), # different type of products pipeline\n",
    "    (\"Default_cat\", cat_pipeline, make_column_selector(dtype_include=object))    \n",
    "    ],\n",
    "    remainder= num_pipeline\n",
    ")"
   ]
  },
  {
   "attachments": {},
   "cell_type": "markdown",
   "metadata": {},
   "source": [
    "### Preprocess Data"
   ]
  },
  {
   "cell_type": "code",
   "execution_count": 201,
   "metadata": {},
   "outputs": [
    {
     "name": "stdout",
     "output_type": "stream",
     "text": [
      "Feature \"Months\" has already been dropped.\n",
      "Input datasets has #37 of data with 9 features\n",
      "Output label has #37 of data\n"
     ]
    }
   ],
   "source": [
    "# drop the months data\n",
    "if \"Months\" in brandData.columns.to_list():\n",
    "    print(\"Drop feature: {}\".format(\"Months\"))\n",
    "    brandData = brandData.drop(\"Months\", axis=1)\n",
    "else: \n",
    "    print(\"Feature {} has already been dropped.\".format(\"\\\"Months\\\"\"))\n",
    "\n",
    "# extract the index of the label data columns \n",
    "y_index = brandData.columns.to_list().index(\"Total Sales ($)\")\n",
    "# preprocess the data\n",
    "brandData_prep = preprocess.fit_transform(brandData)\n",
    "# extract input and output data for machine learning\n",
    "X, y = np.delete(brandData_prep, y_index, 1), brandData_prep[:, y_index]\n",
    "print(\"Input datasets has #{} of data with {} features\".format(X.shape[0], X.shape[1]))\n",
    "print(\"Output label has #{} of data\".format(y.shape[0]))\n"
   ]
  },
  {
   "attachments": {},
   "cell_type": "markdown",
   "metadata": {},
   "source": [
    "## Hyper-parameters"
   ]
  },
  {
   "cell_type": "code",
   "execution_count": 219,
   "metadata": {},
   "outputs": [
    {
     "name": "stdout",
     "output_type": "stream",
     "text": [
      "{'test_ratio': 0.1, 'learning_rate': 0.001, 'batch_size': 5, 'stop_point': 200}\n"
     ]
    }
   ],
   "source": [
    "# initialize all hypterparameters in dictionary forms\n",
    "params = {\n",
    "    \"test_ratio\" : 0.1, \n",
    "    \"learning_rate\" : 1e-3, \n",
    "    \"batch_size\": 5, \n",
    "    \"stop_point\" : 200\n",
    "}\n",
    "# print-out all hyperparameters\n",
    "print(params)"
   ]
  },
  {
   "attachments": {},
   "cell_type": "markdown",
   "metadata": {},
   "source": [
    "## Split Datasets\n",
    "- Split into training/validation and testing dataset"
   ]
  },
  {
   "cell_type": "code",
   "execution_count": 220,
   "metadata": {},
   "outputs": [
    {
     "name": "stdout",
     "output_type": "stream",
     "text": [
      "(33, 9)\n",
      "(4, 9)\n"
     ]
    }
   ],
   "source": [
    "from sklearn.model_selection import train_test_split\n",
    "\n",
    "X_train, X_test, y_train, y_test = train_test_split(X, y, test_size=params[\"test_ratio\"])\n",
    "print(X_train.shape)\n",
    "print(X_test.shape)"
   ]
  },
  {
   "attachments": {},
   "cell_type": "markdown",
   "metadata": {},
   "source": [
    "## Deploy ML/DL\n",
    "- Model selection\n",
    "- Comparison between each baseline models\n",
    "- Select best baseline model\n",
    "- Search for best parameters (grid/random search)"
   ]
  },
  {
   "attachments": {},
   "cell_type": "markdown",
   "metadata": {},
   "source": [
    "### Linear Model"
   ]
  },
  {
   "attachments": {},
   "cell_type": "markdown",
   "metadata": {},
   "source": [
    "#### Linear Regression "
   ]
  },
  {
   "cell_type": "code",
   "execution_count": 222,
   "metadata": {},
   "outputs": [
    {
     "name": "stdout",
     "output_type": "stream",
     "text": [
      "Error rate 0.000854582061193666\n"
     ]
    }
   ],
   "source": [
    "from sklearn.linear_model import LinearRegression\n",
    "from sklearn.metrics import mean_squared_error\n",
    "# initialize model\n",
    "model = LinearRegression()\n",
    "# train model\n",
    "model.fit(X_train, y_train)\n",
    "# test model\n",
    "y_predict = model.predict(X_test)\n",
    "error = mean_squared_error(y_test, y_predict)\n",
    "print(f\"Error rate {error}\")"
   ]
  },
  {
   "attachments": {},
   "cell_type": "markdown",
   "metadata": {},
   "source": [
    "#### Cross Validation Score"
   ]
  },
  {
   "cell_type": "code",
   "execution_count": 237,
   "metadata": {},
   "outputs": [
    {
     "name": "stdout",
     "output_type": "stream",
     "text": [
      "Best cross validation split: 3\n"
     ]
    }
   ],
   "source": [
    "from sklearn.model_selection import cross_val_score, cross_val_predict\n",
    "\n",
    "# initialize parameters\n",
    "bestScore = -1\n",
    "bestCV = 0\n",
    "for cv in range(2, 10):\n",
    "    # initialize model\n",
    "    model = LinearRegression()\n",
    "    score = cross_val_score(model, X_train, y_train, cv=cv)\n",
    "    meanScore = sum(score)/len(score)\n",
    "    if meanScore > bestScore:\n",
    "        bestScore = meanScore\n",
    "        bestCV = cv \n",
    "\n",
    "print(\"Best cross validation split: {}\".format(bestCV))\n"
   ]
  },
  {
   "attachments": {},
   "cell_type": "markdown",
   "metadata": {},
   "source": [
    "### Trees Model"
   ]
  },
  {
   "attachments": {},
   "cell_type": "markdown",
   "metadata": {},
   "source": [
    "## Visualize Result \n",
    "- Visualization result\n",
    "    - Tableau\n",
    "    - Seaborn\n",
    "- Check important features \n",
    "    - Go back to exploring data (if necessary)"
   ]
  },
  {
   "cell_type": "code",
   "execution_count": null,
   "metadata": {},
   "outputs": [],
   "source": []
  }
 ],
 "metadata": {
  "kernelspec": {
   "display_name": "datascience-3.10.9",
   "language": "python",
   "name": "python3"
  },
  "language_info": {
   "codemirror_mode": {
    "name": "ipython",
    "version": 3
   },
   "file_extension": ".py",
   "mimetype": "text/x-python",
   "name": "python",
   "nbconvert_exporter": "python",
   "pygments_lexer": "ipython3",
   "version": "3.10.9"
  },
  "orig_nbformat": 4,
  "vscode": {
   "interpreter": {
    "hash": "99d106c35216c885fdbf4ab3ccbd60dcc461b6113245aaa51ea6dc46c63d0b1a"
   }
  }
 },
 "nbformat": 4,
 "nbformat_minor": 2
}
