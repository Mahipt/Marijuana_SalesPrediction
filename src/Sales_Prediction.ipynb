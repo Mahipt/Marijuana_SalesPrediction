{
 "cells": [
  {
   "attachments": {},
   "cell_type": "markdown",
   "metadata": {},
   "source": [
    "# Sales Prediction"
   ]
  },
  {
   "attachments": {},
   "cell_type": "markdown",
   "metadata": {},
   "source": [
    "## Projects Objective\n",
    "- Goal: Predict sales of each brand\n",
    "- Sub-problems: "
   ]
  },
  {
   "attachments": {},
   "cell_type": "markdown",
   "metadata": {},
   "source": [
    "## Load Data\n",
    "- Load from local dataset"
   ]
  },
  {
   "cell_type": "code",
   "execution_count": 44,
   "metadata": {},
   "outputs": [],
   "source": [
    "# import required packages\n",
    "import sys\n",
    "import os\n",
    "import pandas as pd\n",
    "# Load Dataset\n",
    "avgRetail = pd.read_csv(\"../data/BrandAverageRetailPrice.csv\")\n",
    "brandDetail = pd.read_csv(\"../data/BrandDetails.csv\")\n",
    "totalSales = pd.read_csv(\"../data/BrandTotalSales.csv\")\n",
    "totalUnits = pd.read_csv(\"../data/BrandTotalUnits.csv\")"
   ]
  },
  {
   "attachments": {},
   "cell_type": "markdown",
   "metadata": {},
   "source": [
    "## Construct Dataset \n",
    "- Time-series data base form\n",
    "    - Convert into same time-stamp format\n",
    "- Clean Data \n",
    "    - without imputation\n",
    "- Feature Engineering\n",
    "    - Feature augmentation\n",
    "    - Combining feature in same/different datasets"
   ]
  },
  {
   "attachments": {},
   "cell_type": "markdown",
   "metadata": {},
   "source": [
    "### Find the dataset to start with\n",
    "- Criteria: Information of each datasets\n",
    "- Objective: Since the final goal is to predict the future sales, we start with the dataset that seems to have strong correlation with sales, and also with few feature to start with. "
   ]
  },
  {
   "attachments": {},
   "cell_type": "markdown",
   "metadata": {},
   "source": [
    "#### Total Sales dataset"
   ]
  },
  {
   "cell_type": "code",
   "execution_count": 55,
   "metadata": {},
   "outputs": [
    {
     "name": "stdout",
     "output_type": "stream",
     "text": [
      "<class 'pandas.core.frame.DataFrame'>\n",
      "RangeIndex: 25279 entries, 0 to 25278\n",
      "Data columns (total 3 columns):\n",
      " #   Column           Non-Null Count  Dtype \n",
      "---  ------           --------------  ----- \n",
      " 0   Months           25279 non-null  object\n",
      " 1   Brand            25279 non-null  object\n",
      " 2   Total Sales ($)  25279 non-null  object\n",
      "dtypes: object(3)\n",
      "memory usage: 592.6+ KB\n"
     ]
    },
    {
     "data": {
      "text/plain": [
       "1627"
      ]
     },
     "execution_count": 55,
     "metadata": {},
     "output_type": "execute_result"
    }
   ],
   "source": [
    "totalSales.info()\n",
    "totalSales.head(5)\n",
    "totalSales[\"Brand\"].unique().__len__()"
   ]
  },
  {
   "attachments": {},
   "cell_type": "markdown",
   "metadata": {},
   "source": [
    "#### Total units dataset"
   ]
  },
  {
   "cell_type": "code",
   "execution_count": 56,
   "metadata": {},
   "outputs": [
    {
     "name": "stdout",
     "output_type": "stream",
     "text": [
      "<class 'pandas.core.frame.DataFrame'>\n",
      "RangeIndex: 27686 entries, 0 to 27685\n",
      "Data columns (total 4 columns):\n",
      " #   Column            Non-Null Count  Dtype  \n",
      "---  ------            --------------  -----  \n",
      " 0   Brands            27686 non-null  object \n",
      " 1   Months            27686 non-null  object \n",
      " 2   Total Units       25712 non-null  object \n",
      " 3   vs. Prior Period  24935 non-null  float64\n",
      "dtypes: float64(1), object(3)\n",
      "memory usage: 865.3+ KB\n"
     ]
    },
    {
     "data": {
      "text/plain": [
       "1640"
      ]
     },
     "execution_count": 56,
     "metadata": {},
     "output_type": "execute_result"
    }
   ],
   "source": [
    "totalUnits.info()\n",
    "totalUnits.head(5)\n",
    "# find out how many brand do we have currently\n",
    "totalUnits[\"Brands\"].unique().__len__()"
   ]
  },
  {
   "attachments": {},
   "cell_type": "markdown",
   "metadata": {},
   "source": [
    "### Clean the choosen dataset\n",
    "- Selected dataset: Total Sales\n",
    "- Breakdown: Base-on different brand\n",
    "- Reason: \n",
    "    - It contains more information about salses. \n",
    "    - It has much narrow data in brand features. "
   ]
  },
  {
   "attachments": {},
   "cell_type": "markdown",
   "metadata": {},
   "source": [
    "#### Find out all the brand name"
   ]
  },
  {
   "cell_type": "code",
   "execution_count": null,
   "metadata": {},
   "outputs": [],
   "source": [
    "brands = totalSales[\"Brand\"].unique()\n",
    "print(\"==================================\")\n",
    "print(\"Total: {} different brands\".format(brands.__len__)"
   ]
  },
  {
   "attachments": {},
   "cell_type": "markdown",
   "metadata": {},
   "source": [
    "### Feature Engineering \n",
    "- Transform and add more features in the selected dataset. \n",
    "- Add more features from other related datasets. "
   ]
  },
  {
   "attachments": {},
   "cell_type": "markdown",
   "metadata": {},
   "source": [
    "## Explore Data \n",
    "- Visualize Data \n",
    "- Explore data (correlation)\n",
    "- Objective of features combination"
   ]
  },
  {
   "attachments": {},
   "cell_type": "markdown",
   "metadata": {},
   "source": [
    "## Data Preprocessing\n",
    "- Develope several pipeline\n",
    "- Visualize pipelines \n",
    "- (pipeline update -- base on training result) "
   ]
  },
  {
   "attachments": {},
   "cell_type": "markdown",
   "metadata": {},
   "source": [
    "## Hyper-parameters\n",
    "- Test/Train ratio\n",
    "- Hyperparameters for traning\n",
    "- Hyperparameters for model "
   ]
  },
  {
   "attachments": {},
   "cell_type": "markdown",
   "metadata": {},
   "source": [
    "## Split Datasets\n",
    "- Split into training/validation and testing dataset"
   ]
  },
  {
   "attachments": {},
   "cell_type": "markdown",
   "metadata": {},
   "source": [
    "## Deploy ML/DL\n",
    "- Model selection\n",
    "- Comparison between each baseline models\n",
    "- Select best baseline model\n",
    "- Search for best parameters (grid/random search)"
   ]
  },
  {
   "attachments": {},
   "cell_type": "markdown",
   "metadata": {},
   "source": [
    "## Visualize Result \n",
    "- Visualization result\n",
    "    - Tableau\n",
    "    - Seaborn\n",
    "- Check important features \n",
    "    - Go back to exploring data (if necessary)"
   ]
  }
 ],
 "metadata": {
  "kernelspec": {
   "display_name": "datascience-3.10.9",
   "language": "python",
   "name": "python3"
  },
  "language_info": {
   "codemirror_mode": {
    "name": "ipython",
    "version": 3
   },
   "file_extension": ".py",
   "mimetype": "text/x-python",
   "name": "python",
   "nbconvert_exporter": "python",
   "pygments_lexer": "ipython3",
   "version": "3.10.9"
  },
  "orig_nbformat": 4,
  "vscode": {
   "interpreter": {
    "hash": "99d106c35216c885fdbf4ab3ccbd60dcc461b6113245aaa51ea6dc46c63d0b1a"
   }
  }
 },
 "nbformat": 4,
 "nbformat_minor": 2
}
