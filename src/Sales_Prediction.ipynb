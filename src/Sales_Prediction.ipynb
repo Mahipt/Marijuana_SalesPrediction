{
 "cells": [
  {
   "attachments": {},
   "cell_type": "markdown",
   "metadata": {},
   "source": [
    "# Marijuana Sales Prediction"
   ]
  },
  {
   "attachments": {},
   "cell_type": "markdown",
   "metadata": {},
   "source": [
    "## Projects Objective\n",
    "- Goal: Predict sales of each brand\n",
    "- Sub-problems: "
   ]
  },
  {
   "attachments": {},
   "cell_type": "markdown",
   "metadata": {},
   "source": [
    "## Load Data\n",
    "- Load from local dataset"
   ]
  },
  {
   "cell_type": "code",
   "execution_count": 1,
   "metadata": {},
   "outputs": [],
   "source": [
    "# import required packages\n",
    "import sys\n",
    "import os\n",
    "import pandas as pd\n",
    "# Load Dataset\n",
    "avgRetail = pd.read_csv(\"../data/BrandAverageRetailPrice.csv\")\n",
    "brandDetail = pd.read_csv(\"../data/BrandDetails.csv\")\n",
    "totalSales = pd.read_csv(\"../data/BrandTotalSales.csv\")\n",
    "totalUnits = pd.read_csv(\"../data/BrandTotalUnits.csv\")"
   ]
  },
  {
   "attachments": {},
   "cell_type": "markdown",
   "metadata": {},
   "source": [
    "## Construct Dataset \n",
    "- Time-series data base form\n",
    "    - Convert into same time-stamp format\n",
    "- Clean Data \n",
    "    - without imputation\n",
    "- Feature Engineering\n",
    "    - Feature augmentation\n",
    "    - Combining feature in same/different datasets"
   ]
  },
  {
   "attachments": {},
   "cell_type": "markdown",
   "metadata": {},
   "source": [
    "### Find the dataset to start with\n",
    "- Criteria: Information of each datasets\n",
    "- Objective: Since the final goal is to predict the future sales, we start with the dataset that seems to have strong correlation with sales, and also with few feature to start with. "
   ]
  },
  {
   "attachments": {},
   "cell_type": "markdown",
   "metadata": {},
   "source": [
    "#### Total Sales dataset"
   ]
  },
  {
   "cell_type": "code",
   "execution_count": 15,
   "metadata": {},
   "outputs": [
    {
     "name": "stdout",
     "output_type": "stream",
     "text": [
      "<class 'pandas.core.frame.DataFrame'>\n",
      "RangeIndex: 25279 entries, 0 to 25278\n",
      "Data columns (total 3 columns):\n",
      " #   Column           Non-Null Count  Dtype         \n",
      "---  ------           --------------  -----         \n",
      " 0   Months           25279 non-null  datetime64[ns]\n",
      " 1   Brand            25279 non-null  object        \n",
      " 2   Total Sales ($)  25279 non-null  object        \n",
      "dtypes: datetime64[ns](1), object(2)\n",
      "memory usage: 592.6+ KB\n"
     ]
    },
    {
     "data": {
      "text/html": [
       "<div>\n",
       "<style scoped>\n",
       "    .dataframe tbody tr th:only-of-type {\n",
       "        vertical-align: middle;\n",
       "    }\n",
       "\n",
       "    .dataframe tbody tr th {\n",
       "        vertical-align: top;\n",
       "    }\n",
       "\n",
       "    .dataframe thead th {\n",
       "        text-align: right;\n",
       "    }\n",
       "</style>\n",
       "<table border=\"1\" class=\"dataframe\">\n",
       "  <thead>\n",
       "    <tr style=\"text-align: right;\">\n",
       "      <th></th>\n",
       "      <th>Months</th>\n",
       "      <th>Brand</th>\n",
       "      <th>Total Sales ($)</th>\n",
       "    </tr>\n",
       "  </thead>\n",
       "  <tbody>\n",
       "    <tr>\n",
       "      <th>0</th>\n",
       "      <td>2018-09-01</td>\n",
       "      <td>10x Infused</td>\n",
       "      <td>1,711.334232</td>\n",
       "    </tr>\n",
       "    <tr>\n",
       "      <th>1</th>\n",
       "      <td>2018-09-01</td>\n",
       "      <td>1964 Supply Co.</td>\n",
       "      <td>25,475.21594500000</td>\n",
       "    </tr>\n",
       "    <tr>\n",
       "      <th>2</th>\n",
       "      <td>2018-09-01</td>\n",
       "      <td>3 Bros Grow</td>\n",
       "      <td>120,153.644757</td>\n",
       "    </tr>\n",
       "    <tr>\n",
       "      <th>3</th>\n",
       "      <td>2018-09-01</td>\n",
       "      <td>3 Leaf</td>\n",
       "      <td>6,063.5297850000000</td>\n",
       "    </tr>\n",
       "    <tr>\n",
       "      <th>4</th>\n",
       "      <td>2018-09-01</td>\n",
       "      <td>350 Fire</td>\n",
       "      <td>631,510.0481550000</td>\n",
       "    </tr>\n",
       "  </tbody>\n",
       "</table>\n",
       "</div>"
      ],
      "text/plain": [
       "      Months            Brand      Total Sales ($)\n",
       "0 2018-09-01      10x Infused         1,711.334232\n",
       "1 2018-09-01  1964 Supply Co.   25,475.21594500000\n",
       "2 2018-09-01      3 Bros Grow       120,153.644757\n",
       "3 2018-09-01           3 Leaf  6,063.5297850000000\n",
       "4 2018-09-01         350 Fire   631,510.0481550000"
      ]
     },
     "execution_count": 15,
     "metadata": {},
     "output_type": "execute_result"
    }
   ],
   "source": [
    "totalSales.info()\n",
    "totalSales.head(5)"
   ]
  },
  {
   "attachments": {},
   "cell_type": "markdown",
   "metadata": {},
   "source": [
    "#### Total units dataset"
   ]
  },
  {
   "cell_type": "code",
   "execution_count": 16,
   "metadata": {},
   "outputs": [
    {
     "name": "stdout",
     "output_type": "stream",
     "text": [
      "<class 'pandas.core.frame.DataFrame'>\n",
      "RangeIndex: 27686 entries, 0 to 27685\n",
      "Data columns (total 4 columns):\n",
      " #   Column            Non-Null Count  Dtype  \n",
      "---  ------            --------------  -----  \n",
      " 0   Brands            27686 non-null  object \n",
      " 1   Months            27686 non-null  object \n",
      " 2   Total Units       25712 non-null  object \n",
      " 3   vs. Prior Period  24935 non-null  float64\n",
      "dtypes: float64(1), object(3)\n",
      "memory usage: 865.3+ KB\n"
     ]
    },
    {
     "data": {
      "text/html": [
       "<div>\n",
       "<style scoped>\n",
       "    .dataframe tbody tr th:only-of-type {\n",
       "        vertical-align: middle;\n",
       "    }\n",
       "\n",
       "    .dataframe tbody tr th {\n",
       "        vertical-align: top;\n",
       "    }\n",
       "\n",
       "    .dataframe thead th {\n",
       "        text-align: right;\n",
       "    }\n",
       "</style>\n",
       "<table border=\"1\" class=\"dataframe\">\n",
       "  <thead>\n",
       "    <tr style=\"text-align: right;\">\n",
       "      <th></th>\n",
       "      <th>Brands</th>\n",
       "      <th>Months</th>\n",
       "      <th>Total Units</th>\n",
       "      <th>vs. Prior Period</th>\n",
       "    </tr>\n",
       "  </thead>\n",
       "  <tbody>\n",
       "    <tr>\n",
       "      <th>0</th>\n",
       "      <td>#BlackSeries</td>\n",
       "      <td>08/2020</td>\n",
       "      <td>1,616.3390040000000</td>\n",
       "      <td>NaN</td>\n",
       "    </tr>\n",
       "    <tr>\n",
       "      <th>1</th>\n",
       "      <td>#BlackSeries</td>\n",
       "      <td>09/2020</td>\n",
       "      <td>NaN</td>\n",
       "      <td>-1.000000</td>\n",
       "    </tr>\n",
       "    <tr>\n",
       "      <th>2</th>\n",
       "      <td>#BlackSeries</td>\n",
       "      <td>01/2021</td>\n",
       "      <td>715.5328380000000</td>\n",
       "      <td>NaN</td>\n",
       "    </tr>\n",
       "    <tr>\n",
       "      <th>3</th>\n",
       "      <td>#BlackSeries</td>\n",
       "      <td>02/2021</td>\n",
       "      <td>766.669135</td>\n",
       "      <td>0.071466</td>\n",
       "    </tr>\n",
       "    <tr>\n",
       "      <th>4</th>\n",
       "      <td>#BlackSeries</td>\n",
       "      <td>03/2021</td>\n",
       "      <td>NaN</td>\n",
       "      <td>-1.000000</td>\n",
       "    </tr>\n",
       "  </tbody>\n",
       "</table>\n",
       "</div>"
      ],
      "text/plain": [
       "         Brands   Months          Total Units  vs. Prior Period\n",
       "0  #BlackSeries  08/2020  1,616.3390040000000               NaN\n",
       "1  #BlackSeries  09/2020                  NaN         -1.000000\n",
       "2  #BlackSeries  01/2021    715.5328380000000               NaN\n",
       "3  #BlackSeries  02/2021           766.669135          0.071466\n",
       "4  #BlackSeries  03/2021                  NaN         -1.000000"
      ]
     },
     "execution_count": 16,
     "metadata": {},
     "output_type": "execute_result"
    }
   ],
   "source": [
    "totalUnits.info()\n",
    "totalUnits.head(5)\n",
    "# find out how many brand do we have currently"
   ]
  },
  {
   "attachments": {},
   "cell_type": "markdown",
   "metadata": {},
   "source": [
    "### Clean the choosen dataset\n",
    "- Selected dataset: Total Sales\n",
    "- Breakdown: Base-on different brand\n",
    "- Reason: \n",
    "    - It contains more information about salses. \n",
    "    - It has much narrow data in brand features. "
   ]
  },
  {
   "attachments": {},
   "cell_type": "markdown",
   "metadata": {},
   "source": [
    "#### Preprocess the selected dataset"
   ]
  },
  {
   "cell_type": "code",
   "execution_count": 27,
   "metadata": {},
   "outputs": [
    {
     "data": {
      "text/html": [
       "<div>\n",
       "<style scoped>\n",
       "    .dataframe tbody tr th:only-of-type {\n",
       "        vertical-align: middle;\n",
       "    }\n",
       "\n",
       "    .dataframe tbody tr th {\n",
       "        vertical-align: top;\n",
       "    }\n",
       "\n",
       "    .dataframe thead th {\n",
       "        text-align: right;\n",
       "    }\n",
       "</style>\n",
       "<table border=\"1\" class=\"dataframe\">\n",
       "  <thead>\n",
       "    <tr style=\"text-align: right;\">\n",
       "      <th></th>\n",
       "      <th>Months</th>\n",
       "      <th>Brand</th>\n",
       "      <th>Total Sales ($)</th>\n",
       "    </tr>\n",
       "  </thead>\n",
       "  <tbody>\n",
       "    <tr>\n",
       "      <th>0</th>\n",
       "      <td>2018-09-01</td>\n",
       "      <td>10x Infused</td>\n",
       "      <td>1,711.334232</td>\n",
       "    </tr>\n",
       "    <tr>\n",
       "      <th>1</th>\n",
       "      <td>2018-09-01</td>\n",
       "      <td>1964 Supply Co.</td>\n",
       "      <td>25,475.21594500000</td>\n",
       "    </tr>\n",
       "    <tr>\n",
       "      <th>2</th>\n",
       "      <td>2018-09-01</td>\n",
       "      <td>3 Bros Grow</td>\n",
       "      <td>120,153.644757</td>\n",
       "    </tr>\n",
       "    <tr>\n",
       "      <th>3</th>\n",
       "      <td>2018-09-01</td>\n",
       "      <td>3 Leaf</td>\n",
       "      <td>6,063.5297850000000</td>\n",
       "    </tr>\n",
       "    <tr>\n",
       "      <th>4</th>\n",
       "      <td>2018-09-01</td>\n",
       "      <td>350 Fire</td>\n",
       "      <td>631,510.0481550000</td>\n",
       "    </tr>\n",
       "  </tbody>\n",
       "</table>\n",
       "</div>"
      ],
      "text/plain": [
       "      Months            Brand      Total Sales ($)\n",
       "0 2018-09-01      10x Infused         1,711.334232\n",
       "1 2018-09-01  1964 Supply Co.   25,475.21594500000\n",
       "2 2018-09-01      3 Bros Grow       120,153.644757\n",
       "3 2018-09-01           3 Leaf  6,063.5297850000000\n",
       "4 2018-09-01         350 Fire   631,510.0481550000"
      ]
     },
     "execution_count": 27,
     "metadata": {},
     "output_type": "execute_result"
    }
   ],
   "source": [
    "import numpy as np\n",
    "# convert the time stamp dataset\n",
    "totalSales[\"Months\"] = pd.to_datetime(totalSales[\"Months\"])\n",
    "# convert salses data to numerical data form\n",
    "totalSales[\"Total Sales ($)\"] = totalSales[\"Total Sales ($)\"].astype(np.float\n",
    "totalSales.head(5)"
   ]
  },
  {
   "attachments": {},
   "cell_type": "markdown",
   "metadata": {},
   "source": [
    "#### Find out all the brand name"
   ]
  },
  {
   "cell_type": "code",
   "execution_count": 9,
   "metadata": {},
   "outputs": [
    {
     "name": "stdout",
     "output_type": "stream",
     "text": [
      "==================================\n",
      "Total: 1627 different brands\n",
      "==================================\n"
     ]
    }
   ],
   "source": [
    "brands = list(totalSales[\"Brand\"].unique())\n",
    "print(\"==================================\")\n",
    "print(\"Total: {} different brands\".format(brands.__len__()))\n",
    "print(\"==================================\")"
   ]
  },
  {
   "attachments": {},
   "cell_type": "markdown",
   "metadata": {},
   "source": [
    "#### Find the brand to start with\n",
    "- Start with the brand that has much information. "
   ]
  },
  {
   "cell_type": "code",
   "execution_count": 13,
   "metadata": {},
   "outputs": [
    {
     "data": {
      "text/plain": [
       "Lift Ticket Laboratories    37\n",
       "Garden Society              37\n",
       "Field Extracts              37\n",
       "Northern Emeralds           37\n",
       "Fiori                       37\n",
       "                            ..\n",
       "Rambling Rose Farm           1\n",
       "Goldie's Vault               1\n",
       "530                          1\n",
       "Lost Coast Alchemy           1\n",
       "Zanna                        1\n",
       "Name: Brand, Length: 1627, dtype: int64"
      ]
     },
     "execution_count": 13,
     "metadata": {},
     "output_type": "execute_result"
    }
   ],
   "source": [
    "# start with one of the brand\n",
    "totalSales[\"Brand\"].value_counts()"
   ]
  },
  {
   "attachments": {},
   "cell_type": "markdown",
   "metadata": {},
   "source": [
    "#### Clean the selected brand data"
   ]
  },
  {
   "cell_type": "code",
   "execution_count": null,
   "metadata": {},
   "outputs": [],
   "source": [
    "brand = \"Garden Society\"\n"
   ]
  },
  {
   "attachments": {},
   "cell_type": "markdown",
   "metadata": {},
   "source": [
    "### Feature Engineering \n",
    "- Transform and add more features in the selected dataset. \n",
    "- Add more features from other related datasets. "
   ]
  },
  {
   "attachments": {},
   "cell_type": "markdown",
   "metadata": {},
   "source": [
    "## Explore Data \n",
    "- Visualize Data \n",
    "- Explore data (correlation)\n",
    "- Objective of features combination"
   ]
  },
  {
   "attachments": {},
   "cell_type": "markdown",
   "metadata": {},
   "source": [
    "## Data Preprocessing\n",
    "- Develope several pipeline\n",
    "- Visualize pipelines \n",
    "- (pipeline update -- base on training result) "
   ]
  },
  {
   "attachments": {},
   "cell_type": "markdown",
   "metadata": {},
   "source": [
    "## Hyper-parameters\n",
    "- Test/Train ratio\n",
    "- Hyperparameters for traning\n",
    "- Hyperparameters for model "
   ]
  },
  {
   "attachments": {},
   "cell_type": "markdown",
   "metadata": {},
   "source": [
    "## Split Datasets\n",
    "- Split into training/validation and testing dataset"
   ]
  },
  {
   "attachments": {},
   "cell_type": "markdown",
   "metadata": {},
   "source": [
    "## Deploy ML/DL\n",
    "- Model selection\n",
    "- Comparison between each baseline models\n",
    "- Select best baseline model\n",
    "- Search for best parameters (grid/random search)"
   ]
  },
  {
   "attachments": {},
   "cell_type": "markdown",
   "metadata": {},
   "source": [
    "## Visualize Result \n",
    "- Visualization result\n",
    "    - Tableau\n",
    "    - Seaborn\n",
    "- Check important features \n",
    "    - Go back to exploring data (if necessary)"
   ]
  }
 ],
 "metadata": {
  "kernelspec": {
   "display_name": "datascience-3.10.9",
   "language": "python",
   "name": "python3"
  },
  "language_info": {
   "codemirror_mode": {
    "name": "ipython",
    "version": 3
   },
   "file_extension": ".py",
   "mimetype": "text/x-python",
   "name": "python",
   "nbconvert_exporter": "python",
   "pygments_lexer": "ipython3",
   "version": "3.10.9"
  },
  "orig_nbformat": 4,
  "vscode": {
   "interpreter": {
    "hash": "99d106c35216c885fdbf4ab3ccbd60dcc461b6113245aaa51ea6dc46c63d0b1a"
   }
  }
 },
 "nbformat": 4,
 "nbformat_minor": 2
}
