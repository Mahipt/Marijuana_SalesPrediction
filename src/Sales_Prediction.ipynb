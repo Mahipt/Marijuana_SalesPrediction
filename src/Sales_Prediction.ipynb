{
 "cells": [
  {
   "attachments": {},
   "cell_type": "markdown",
   "metadata": {},
   "source": [
    "# Marijuana Sales Prediction"
   ]
  },
  {
   "attachments": {},
   "cell_type": "markdown",
   "metadata": {},
   "source": [
    "## Projects Objective\n",
    "- Goal: Predict sales of each brand\n",
    "- Sub-problems: "
   ]
  },
  {
   "attachments": {},
   "cell_type": "markdown",
   "metadata": {},
   "source": [
    "## Load Data\n",
    "- Load from local dataset"
   ]
  },
  {
   "cell_type": "code",
   "execution_count": 2,
   "metadata": {},
   "outputs": [],
   "source": [
    "%reload_ext autoreload\n",
    "%autoreload 2\n",
    "import warnings\n",
    "warnings.filterwarnings('ignore')\n",
    "# import required packages\n",
    "import sys\n",
    "import os\n",
    "import pandas as pd\n",
    "# Load Dataset\n",
    "avgRetail = pd.read_csv(\"../data/BrandAverageRetailPrice.csv\")\n",
    "brandDetail = pd.read_csv(\"../data/BrandDetails.csv\")\n",
    "totalSales = pd.read_csv(\"../data/BrandTotalSales.csv\")\n",
    "totalUnits = pd.read_csv(\"../data/BrandTotalUnits.csv\")"
   ]
  },
  {
   "attachments": {},
   "cell_type": "markdown",
   "metadata": {},
   "source": [
    "## Construct Dataset \n",
    "- Time-series data\n",
    "    - Convert into same time-stamp format\n",
    "- Clean Data \n",
    "    - without imputation\n",
    "- Feature Engineering\n",
    "    - Feature augmentation\n",
    "    - Combining feature in same/different datasets"
   ]
  },
  {
   "attachments": {},
   "cell_type": "markdown",
   "metadata": {},
   "source": [
    "### Find the dataset to start with\n",
    "- Criteria: Information of each datasets\n",
    "- Objective: Since the final goal is to predict the future sales, we start with the dataset that seems to have strong correlation with sales, and also with few feature to start with. "
   ]
  },
  {
   "attachments": {},
   "cell_type": "markdown",
   "metadata": {},
   "source": [
    "#### Total Sales dataset"
   ]
  },
  {
   "cell_type": "code",
   "execution_count": 3,
   "metadata": {},
   "outputs": [
    {
     "name": "stdout",
     "output_type": "stream",
     "text": [
      "<class 'pandas.core.frame.DataFrame'>\n",
      "RangeIndex: 25279 entries, 0 to 25278\n",
      "Data columns (total 3 columns):\n",
      " #   Column           Non-Null Count  Dtype \n",
      "---  ------           --------------  ----- \n",
      " 0   Months           25279 non-null  object\n",
      " 1   Brand            25279 non-null  object\n",
      " 2   Total Sales ($)  25279 non-null  object\n",
      "dtypes: object(3)\n",
      "memory usage: 592.6+ KB\n"
     ]
    },
    {
     "data": {
      "text/html": [
       "<div>\n",
       "<style scoped>\n",
       "    .dataframe tbody tr th:only-of-type {\n",
       "        vertical-align: middle;\n",
       "    }\n",
       "\n",
       "    .dataframe tbody tr th {\n",
       "        vertical-align: top;\n",
       "    }\n",
       "\n",
       "    .dataframe thead th {\n",
       "        text-align: right;\n",
       "    }\n",
       "</style>\n",
       "<table border=\"1\" class=\"dataframe\">\n",
       "  <thead>\n",
       "    <tr style=\"text-align: right;\">\n",
       "      <th></th>\n",
       "      <th>Months</th>\n",
       "      <th>Brand</th>\n",
       "      <th>Total Sales ($)</th>\n",
       "    </tr>\n",
       "  </thead>\n",
       "  <tbody>\n",
       "    <tr>\n",
       "      <th>0</th>\n",
       "      <td>09/2018</td>\n",
       "      <td>10x Infused</td>\n",
       "      <td>1,711.334232</td>\n",
       "    </tr>\n",
       "    <tr>\n",
       "      <th>1</th>\n",
       "      <td>09/2018</td>\n",
       "      <td>1964 Supply Co.</td>\n",
       "      <td>25,475.21594500000</td>\n",
       "    </tr>\n",
       "    <tr>\n",
       "      <th>2</th>\n",
       "      <td>09/2018</td>\n",
       "      <td>3 Bros Grow</td>\n",
       "      <td>120,153.644757</td>\n",
       "    </tr>\n",
       "    <tr>\n",
       "      <th>3</th>\n",
       "      <td>09/2018</td>\n",
       "      <td>3 Leaf</td>\n",
       "      <td>6,063.5297850000000</td>\n",
       "    </tr>\n",
       "    <tr>\n",
       "      <th>4</th>\n",
       "      <td>09/2018</td>\n",
       "      <td>350 Fire</td>\n",
       "      <td>631,510.0481550000</td>\n",
       "    </tr>\n",
       "  </tbody>\n",
       "</table>\n",
       "</div>"
      ],
      "text/plain": [
       "    Months            Brand      Total Sales ($)\n",
       "0  09/2018      10x Infused         1,711.334232\n",
       "1  09/2018  1964 Supply Co.   25,475.21594500000\n",
       "2  09/2018      3 Bros Grow       120,153.644757\n",
       "3  09/2018           3 Leaf  6,063.5297850000000\n",
       "4  09/2018         350 Fire   631,510.0481550000"
      ]
     },
     "execution_count": 3,
     "metadata": {},
     "output_type": "execute_result"
    }
   ],
   "source": [
    "totalSales.info()\n",
    "totalSales.head(5)"
   ]
  },
  {
   "attachments": {},
   "cell_type": "markdown",
   "metadata": {},
   "source": [
    "#### Total units dataset"
   ]
  },
  {
   "cell_type": "code",
   "execution_count": 4,
   "metadata": {},
   "outputs": [
    {
     "name": "stdout",
     "output_type": "stream",
     "text": [
      "<class 'pandas.core.frame.DataFrame'>\n",
      "RangeIndex: 27686 entries, 0 to 27685\n",
      "Data columns (total 4 columns):\n",
      " #   Column            Non-Null Count  Dtype  \n",
      "---  ------            --------------  -----  \n",
      " 0   Brands            27686 non-null  object \n",
      " 1   Months            27686 non-null  object \n",
      " 2   Total Units       25712 non-null  object \n",
      " 3   vs. Prior Period  24935 non-null  float64\n",
      "dtypes: float64(1), object(3)\n",
      "memory usage: 865.3+ KB\n"
     ]
    },
    {
     "data": {
      "text/html": [
       "<div>\n",
       "<style scoped>\n",
       "    .dataframe tbody tr th:only-of-type {\n",
       "        vertical-align: middle;\n",
       "    }\n",
       "\n",
       "    .dataframe tbody tr th {\n",
       "        vertical-align: top;\n",
       "    }\n",
       "\n",
       "    .dataframe thead th {\n",
       "        text-align: right;\n",
       "    }\n",
       "</style>\n",
       "<table border=\"1\" class=\"dataframe\">\n",
       "  <thead>\n",
       "    <tr style=\"text-align: right;\">\n",
       "      <th></th>\n",
       "      <th>Brands</th>\n",
       "      <th>Months</th>\n",
       "      <th>Total Units</th>\n",
       "      <th>vs. Prior Period</th>\n",
       "    </tr>\n",
       "  </thead>\n",
       "  <tbody>\n",
       "    <tr>\n",
       "      <th>0</th>\n",
       "      <td>#BlackSeries</td>\n",
       "      <td>08/2020</td>\n",
       "      <td>1,616.3390040000000</td>\n",
       "      <td>NaN</td>\n",
       "    </tr>\n",
       "    <tr>\n",
       "      <th>1</th>\n",
       "      <td>#BlackSeries</td>\n",
       "      <td>09/2020</td>\n",
       "      <td>NaN</td>\n",
       "      <td>-1.000000</td>\n",
       "    </tr>\n",
       "    <tr>\n",
       "      <th>2</th>\n",
       "      <td>#BlackSeries</td>\n",
       "      <td>01/2021</td>\n",
       "      <td>715.5328380000000</td>\n",
       "      <td>NaN</td>\n",
       "    </tr>\n",
       "    <tr>\n",
       "      <th>3</th>\n",
       "      <td>#BlackSeries</td>\n",
       "      <td>02/2021</td>\n",
       "      <td>766.669135</td>\n",
       "      <td>0.071466</td>\n",
       "    </tr>\n",
       "    <tr>\n",
       "      <th>4</th>\n",
       "      <td>#BlackSeries</td>\n",
       "      <td>03/2021</td>\n",
       "      <td>NaN</td>\n",
       "      <td>-1.000000</td>\n",
       "    </tr>\n",
       "  </tbody>\n",
       "</table>\n",
       "</div>"
      ],
      "text/plain": [
       "         Brands   Months          Total Units  vs. Prior Period\n",
       "0  #BlackSeries  08/2020  1,616.3390040000000               NaN\n",
       "1  #BlackSeries  09/2020                  NaN         -1.000000\n",
       "2  #BlackSeries  01/2021    715.5328380000000               NaN\n",
       "3  #BlackSeries  02/2021           766.669135          0.071466\n",
       "4  #BlackSeries  03/2021                  NaN         -1.000000"
      ]
     },
     "execution_count": 4,
     "metadata": {},
     "output_type": "execute_result"
    }
   ],
   "source": [
    "totalUnits.info()\n",
    "totalUnits.head(5)\n",
    "# find out how many brand do we have currently"
   ]
  },
  {
   "attachments": {},
   "cell_type": "markdown",
   "metadata": {},
   "source": [
    "### Clean the choosen dataset\n",
    "- Selected dataset: Total Sales\n",
    "- Breakdown: Base-on different brand\n",
    "- Reason: \n",
    "    - It contains more information about salses. \n",
    "    - It has much narrow data in brand features. "
   ]
  },
  {
   "attachments": {},
   "cell_type": "markdown",
   "metadata": {},
   "source": [
    "#### Preprocess the selected dataset"
   ]
  },
  {
   "cell_type": "code",
   "execution_count": 5,
   "metadata": {},
   "outputs": [
    {
     "name": "stdout",
     "output_type": "stream",
     "text": [
      "<class 'pandas.core.frame.DataFrame'>\n",
      "RangeIndex: 25279 entries, 0 to 25278\n",
      "Data columns (total 3 columns):\n",
      " #   Column           Non-Null Count  Dtype         \n",
      "---  ------           --------------  -----         \n",
      " 0   Months           25279 non-null  datetime64[ns]\n",
      " 1   Brand            25279 non-null  object        \n",
      " 2   Total Sales ($)  25279 non-null  float64       \n",
      "dtypes: datetime64[ns](1), float64(1), object(1)\n",
      "memory usage: 592.6+ KB\n"
     ]
    }
   ],
   "source": [
    "# convert the time stamp dataset\n",
    "totalSales[\"Months\"] = totalSales[\"Months\"].astype(str).astype('datetime64[ns]')\n",
    "# convert salses data to numerical data form\n",
    "totalSales[\"Total Sales ($)\"] = totalSales[\"Total Sales ($)\"].str.replace(',','')\n",
    "totalSales[\"Total Sales ($)\"] = totalSales[\"Total Sales ($)\"].astype(float)\n",
    "totalSales.info()"
   ]
  },
  {
   "attachments": {},
   "cell_type": "markdown",
   "metadata": {},
   "source": [
    "#### Find out all the brand name"
   ]
  },
  {
   "cell_type": "code",
   "execution_count": 6,
   "metadata": {},
   "outputs": [
    {
     "name": "stdout",
     "output_type": "stream",
     "text": [
      "==================================\n",
      "Total: 1627 different brands\n",
      "==================================\n"
     ]
    }
   ],
   "source": [
    "brands = list(totalSales[\"Brand\"].unique())\n",
    "print(\"==================================\")\n",
    "print(\"Total: {} different brands\".format(brands.__len__()))\n",
    "print(\"==================================\")"
   ]
  },
  {
   "attachments": {},
   "cell_type": "markdown",
   "metadata": {},
   "source": [
    "#### Select Brand with Enough Data\n",
    "- Start with the brand that has much information. "
   ]
  },
  {
   "cell_type": "code",
   "execution_count": 53,
   "metadata": {},
   "outputs": [
    {
     "name": "stdout",
     "output_type": "stream",
     "text": [
      "============Current Threshold for Number of Data: 37===========\n"
     ]
    },
    {
     "data": {
      "image/png": "[encoded data removed]",
      "text/plain": [
       "<Figure size 640x480 with 1 Axes>"
      ]
     },
     "metadata": {},
     "output_type": "display_data"
    }
   ],
   "source": [
    "import matplotlib.pyplot as plt\n",
    "# start with one of the brand\n",
    "# only list-out top three brand\n",
    "brands_data_num = pd.DataFrame()\n",
    "brands_data_num.loc[:, \"Brand\"] = totalSales.loc[:, \"Brand\"]\n",
    "brands_data_num.loc[:, \"Count\"] = [1]*len(totalSales[\"Brand\"])\n",
    "brands_data_num = brands_data_num.groupby([\"Brand\"]).sum().sort_values(\"Count\", ascending=False)\n",
    "\n",
    "# Only pick the brands with enough number of data\n",
    "numDataThreshold = brands_data_num[\"Count\"].max()\n",
    "print(\"============Current Threshold for Number of Data: {}===========\".format(numDataThreshold))\n",
    "brands_filtered = brands_data_num[brands_data_num.Count >= numDataThreshold]\n",
    "brands_filtered.head(10).plot(kind=\"bar\")\n",
    "plt.show()"
   ]
  },
  {
   "attachments": {},
   "cell_type": "markdown",
   "metadata": {},
   "source": [
    "### Feature Engineering \n",
    "- Transform and add more features in the selected dataset. \n",
    "- Add more features from other related datasets. "
   ]
  },
  {
   "attachments": {},
   "cell_type": "markdown",
   "metadata": {},
   "source": [
    "#### Sales info about selected brand"
   ]
  },
  {
   "cell_type": "code",
   "execution_count": 8,
   "metadata": {},
   "outputs": [
    {
     "data": {
      "text/html": [
       "<div>\n",
       "<style scoped>\n",
       "    .dataframe tbody tr th:only-of-type {\n",
       "        vertical-align: middle;\n",
       "    }\n",
       "\n",
       "    .dataframe tbody tr th {\n",
       "        vertical-align: top;\n",
       "    }\n",
       "\n",
       "    .dataframe thead th {\n",
       "        text-align: right;\n",
       "    }\n",
       "</style>\n",
       "<table border=\"1\" class=\"dataframe\">\n",
       "  <thead>\n",
       "    <tr style=\"text-align: right;\">\n",
       "      <th></th>\n",
       "      <th>Months</th>\n",
       "      <th>Total Sales ($)</th>\n",
       "    </tr>\n",
       "  </thead>\n",
       "  <tbody>\n",
       "    <tr>\n",
       "      <th>162</th>\n",
       "      <td>2018-09-01</td>\n",
       "      <td>679.796207</td>\n",
       "    </tr>\n",
       "    <tr>\n",
       "      <th>632</th>\n",
       "      <td>2018-10-01</td>\n",
       "      <td>9847.971509</td>\n",
       "    </tr>\n",
       "    <tr>\n",
       "      <th>1126</th>\n",
       "      <td>2018-11-01</td>\n",
       "      <td>17585.544522</td>\n",
       "    </tr>\n",
       "    <tr>\n",
       "      <th>1659</th>\n",
       "      <td>2018-12-01</td>\n",
       "      <td>13796.748683</td>\n",
       "    </tr>\n",
       "    <tr>\n",
       "      <th>2191</th>\n",
       "      <td>2019-01-01</td>\n",
       "      <td>13525.256162</td>\n",
       "    </tr>\n",
       "    <tr>\n",
       "      <th>2727</th>\n",
       "      <td>2019-02-01</td>\n",
       "      <td>129564.314831</td>\n",
       "    </tr>\n",
       "    <tr>\n",
       "      <th>3288</th>\n",
       "      <td>2019-03-01</td>\n",
       "      <td>104925.011206</td>\n",
       "    </tr>\n",
       "    <tr>\n",
       "      <th>3858</th>\n",
       "      <td>2019-04-01</td>\n",
       "      <td>131054.937778</td>\n",
       "    </tr>\n",
       "    <tr>\n",
       "      <th>4446</th>\n",
       "      <td>2019-05-01</td>\n",
       "      <td>121876.366551</td>\n",
       "    </tr>\n",
       "    <tr>\n",
       "      <th>5047</th>\n",
       "      <td>2019-06-01</td>\n",
       "      <td>218701.840227</td>\n",
       "    </tr>\n",
       "  </tbody>\n",
       "</table>\n",
       "</div>"
      ],
      "text/plain": [
       "         Months  Total Sales ($)\n",
       "162  2018-09-01       679.796207\n",
       "632  2018-10-01      9847.971509\n",
       "1126 2018-11-01     17585.544522\n",
       "1659 2018-12-01     13796.748683\n",
       "2191 2019-01-01     13525.256162\n",
       "2727 2019-02-01    129564.314831\n",
       "3288 2019-03-01    104925.011206\n",
       "3858 2019-04-01    131054.937778\n",
       "4446 2019-05-01    121876.366551\n",
       "5047 2019-06-01    218701.840227"
      ]
     },
     "execution_count": 8,
     "metadata": {},
     "output_type": "execute_result"
    }
   ],
   "source": [
    "brandName = 'Garden Society'\n",
    "brandData = totalSales[totalSales.Brand == brandName].drop(['Brand'], 1)"
   ]
  },
  {
   "attachments": {},
   "cell_type": "markdown",
   "metadata": {},
   "source": [
    "#### Adding Features to Dataset"
   ]
  },
  {
   "cell_type": "code",
   "execution_count": 9,
   "metadata": {},
   "outputs": [
    {
     "data": {
      "text/html": [
       "<div>\n",
       "<style scoped>\n",
       "    .dataframe tbody tr th:only-of-type {\n",
       "        vertical-align: middle;\n",
       "    }\n",
       "\n",
       "    .dataframe tbody tr th {\n",
       "        vertical-align: top;\n",
       "    }\n",
       "\n",
       "    .dataframe thead th {\n",
       "        text-align: right;\n",
       "    }\n",
       "</style>\n",
       "<table border=\"1\" class=\"dataframe\">\n",
       "  <thead>\n",
       "    <tr style=\"text-align: right;\">\n",
       "      <th></th>\n",
       "      <th>Months</th>\n",
       "      <th>Total Sales ($)</th>\n",
       "      <th>Previous Month Sales</th>\n",
       "      <th>Rolling Sales (3 months)</th>\n",
       "      <th>Rolling Sales (6 months)</th>\n",
       "    </tr>\n",
       "  </thead>\n",
       "  <tbody>\n",
       "    <tr>\n",
       "      <th>162</th>\n",
       "      <td>2018-09-01</td>\n",
       "      <td>679.796207</td>\n",
       "      <td>9847.971509</td>\n",
       "      <td>13743.421571</td>\n",
       "      <td>48207.474485</td>\n",
       "    </tr>\n",
       "    <tr>\n",
       "      <th>632</th>\n",
       "      <td>2018-10-01</td>\n",
       "      <td>9847.971509</td>\n",
       "      <td>17585.544522</td>\n",
       "      <td>14969.183122</td>\n",
       "      <td>68408.635530</td>\n",
       "    </tr>\n",
       "    <tr>\n",
       "      <th>1126</th>\n",
       "      <td>2018-11-01</td>\n",
       "      <td>17585.544522</td>\n",
       "      <td>13796.748683</td>\n",
       "      <td>52295.439892</td>\n",
       "      <td>85790.439202</td>\n",
       "    </tr>\n",
       "    <tr>\n",
       "      <th>1659</th>\n",
       "      <td>2018-12-01</td>\n",
       "      <td>13796.748683</td>\n",
       "      <td>13525.256162</td>\n",
       "      <td>82671.527400</td>\n",
       "      <td>119941.287792</td>\n",
       "    </tr>\n",
       "    <tr>\n",
       "      <th>2191</th>\n",
       "      <td>2019-01-01</td>\n",
       "      <td>13525.256162</td>\n",
       "      <td>129564.314831</td>\n",
       "      <td>121848.087938</td>\n",
       "      <td>151471.647204</td>\n",
       "    </tr>\n",
       "  </tbody>\n",
       "</table>\n",
       "</div>"
      ],
      "text/plain": [
       "         Months  Total Sales ($)  Previous Month Sales  \\\n",
       "162  2018-09-01       679.796207           9847.971509   \n",
       "632  2018-10-01      9847.971509          17585.544522   \n",
       "1126 2018-11-01     17585.544522          13796.748683   \n",
       "1659 2018-12-01     13796.748683          13525.256162   \n",
       "2191 2019-01-01     13525.256162         129564.314831   \n",
       "\n",
       "      Rolling Sales (3 months)  Rolling Sales (6 months)  \n",
       "162               13743.421571              48207.474485  \n",
       "632               14969.183122              68408.635530  \n",
       "1126              52295.439892              85790.439202  \n",
       "1659              82671.527400             119941.287792  \n",
       "2191             121848.087938             151471.647204  "
      ]
     },
     "execution_count": 9,
     "metadata": {},
     "output_type": "execute_result"
    }
   ],
   "source": [
    "#  adding from current dataset \n",
    "#==============add last month data===============================================\n",
    "brandData.loc[:, 'Previous Month Sales'] = brandData.loc[:,\"Total Sales ($)\"].shift(-1)\n",
    "\n",
    "#===========Adding Rolling Sales Data===========\n",
    "# add rolling sales data (for three months)\n",
    "# calcualte the sum\n",
    "rollSum, rollMonths = 0, 3\n",
    "for month in range(1, rollMonths + 1): \n",
    "    rollSum += brandData.loc[:,\"Total Sales ($)\"].shift(-1 * month)\n",
    "brandData.loc[:, 'Rolling Sales (3 months)'] = rollSum / rollMonths\n",
    "\n",
    "# add rolling sales data (for six months)\n",
    "rollSum, rollMonths = 0, 6\n",
    "for month in range(1, rollMonths + 1): \n",
    "    rollSum += brandData.loc[:,\"Total Sales ($)\"].shift(-1 * month)\n",
    "brandData.loc[:, 'Rolling Sales (6 months)'] = rollSum / rollMonths\n",
    "\n",
    "brandData.head()"
   ]
  },
  {
   "attachments": {},
   "cell_type": "markdown",
   "metadata": {},
   "source": [
    "##### Add from total_unit dataset"
   ]
  },
  {
   "cell_type": "code",
   "execution_count": 10,
   "metadata": {},
   "outputs": [
    {
     "name": "stdout",
     "output_type": "stream",
     "text": [
      "<class 'pandas.core.frame.DataFrame'>\n",
      "Int64Index: 37 entries, 0 to 36\n",
      "Data columns (total 7 columns):\n",
      " #   Column                    Non-Null Count  Dtype         \n",
      "---  ------                    --------------  -----         \n",
      " 0   Months                    37 non-null     datetime64[ns]\n",
      " 1   Total Sales ($)           37 non-null     float64       \n",
      " 2   Previous Month Sales      36 non-null     float64       \n",
      " 3   Rolling Sales (3 months)  34 non-null     float64       \n",
      " 4   Rolling Sales (6 months)  31 non-null     float64       \n",
      " 5   Total Units               37 non-null     float64       \n",
      " 6   vs. Prior Period          37 non-null     float64       \n",
      "dtypes: datetime64[ns](1), float64(6)\n",
      "memory usage: 2.3 KB\n"
     ]
    }
   ],
   "source": [
    "# general info\n",
    "brandUnits = totalUnits[totalUnits.Brands == brandName]\n",
    "brandUnits[\"Months\"] = pd.to_datetime(brandUnits[\"Months\"])\n",
    "brandUnits[\"Total Units\"] = brandUnits[\"Total Units\"].str.replace(',','')\n",
    "brandUnits[\"Total Units\"] = brandUnits[\"Total Units\"].astype(float)\n",
    "brandUnits = brandUnits.drop(['Brands'], 1)\n",
    "#===================Merge Data==================\n",
    "brandData = brandData.merge(brandUnits, right_on=\"Months\", left_on=\"Months\")\n",
    "brandData.info()"
   ]
  },
  {
   "attachments": {},
   "cell_type": "markdown",
   "metadata": {},
   "source": [
    "##### Add from average retail price dataset"
   ]
  },
  {
   "cell_type": "code",
   "execution_count": 11,
   "metadata": {},
   "outputs": [
    {
     "data": {
      "text/html": [
       "<div>\n",
       "<style scoped>\n",
       "    .dataframe tbody tr th:only-of-type {\n",
       "        vertical-align: middle;\n",
       "    }\n",
       "\n",
       "    .dataframe tbody tr th {\n",
       "        vertical-align: top;\n",
       "    }\n",
       "\n",
       "    .dataframe thead th {\n",
       "        text-align: right;\n",
       "    }\n",
       "</style>\n",
       "<table border=\"1\" class=\"dataframe\">\n",
       "  <thead>\n",
       "    <tr style=\"text-align: right;\">\n",
       "      <th></th>\n",
       "      <th>Months</th>\n",
       "      <th>Total Sales ($)</th>\n",
       "      <th>Previous Month Sales</th>\n",
       "      <th>Rolling Sales (3 months)</th>\n",
       "      <th>Rolling Sales (6 months)</th>\n",
       "      <th>Total Units</th>\n",
       "      <th>vs. Prior Period (Totla Units)</th>\n",
       "      <th>ARP</th>\n",
       "      <th>vs. Prior Period (ARP)</th>\n",
       "    </tr>\n",
       "  </thead>\n",
       "  <tbody>\n",
       "    <tr>\n",
       "      <th>0</th>\n",
       "      <td>2018-09-01</td>\n",
       "      <td>679.796207</td>\n",
       "      <td>9847.971509</td>\n",
       "      <td>13743.421571</td>\n",
       "      <td>48207.474485</td>\n",
       "      <td>29.758195</td>\n",
       "      <td>-0.934166</td>\n",
       "      <td>22.844000</td>\n",
       "      <td>NaN</td>\n",
       "    </tr>\n",
       "    <tr>\n",
       "      <th>1</th>\n",
       "      <td>2018-10-01</td>\n",
       "      <td>9847.971509</td>\n",
       "      <td>17585.544522</td>\n",
       "      <td>14969.183122</td>\n",
       "      <td>68408.635530</td>\n",
       "      <td>390.194917</td>\n",
       "      <td>12.112184</td>\n",
       "      <td>25.238595</td>\n",
       "      <td>0.104824</td>\n",
       "    </tr>\n",
       "    <tr>\n",
       "      <th>2</th>\n",
       "      <td>2018-11-01</td>\n",
       "      <td>17585.544522</td>\n",
       "      <td>13796.748683</td>\n",
       "      <td>52295.439892</td>\n",
       "      <td>85790.439202</td>\n",
       "      <td>636.899760</td>\n",
       "      <td>0.632261</td>\n",
       "      <td>27.611165</td>\n",
       "      <td>0.094006</td>\n",
       "    </tr>\n",
       "    <tr>\n",
       "      <th>3</th>\n",
       "      <td>2018-12-01</td>\n",
       "      <td>13796.748683</td>\n",
       "      <td>13525.256162</td>\n",
       "      <td>82671.527400</td>\n",
       "      <td>119941.287792</td>\n",
       "      <td>506.255493</td>\n",
       "      <td>-0.205125</td>\n",
       "      <td>27.252541</td>\n",
       "      <td>-0.012988</td>\n",
       "    </tr>\n",
       "    <tr>\n",
       "      <th>4</th>\n",
       "      <td>2019-01-01</td>\n",
       "      <td>13525.256162</td>\n",
       "      <td>129564.314831</td>\n",
       "      <td>121848.087938</td>\n",
       "      <td>151471.647204</td>\n",
       "      <td>561.925335</td>\n",
       "      <td>0.109964</td>\n",
       "      <td>24.069490</td>\n",
       "      <td>-0.116798</td>\n",
       "    </tr>\n",
       "    <tr>\n",
       "      <th>5</th>\n",
       "      <td>2019-02-01</td>\n",
       "      <td>129564.314831</td>\n",
       "      <td>104925.011206</td>\n",
       "      <td>119285.438512</td>\n",
       "      <td>172060.027014</td>\n",
       "      <td>3045.884273</td>\n",
       "      <td>4.420443</td>\n",
       "      <td>42.537504</td>\n",
       "      <td>0.767279</td>\n",
       "    </tr>\n",
       "    <tr>\n",
       "      <th>6</th>\n",
       "      <td>2019-03-01</td>\n",
       "      <td>104925.011206</td>\n",
       "      <td>131054.937778</td>\n",
       "      <td>157211.048185</td>\n",
       "      <td>198743.628602</td>\n",
       "      <td>2593.505278</td>\n",
       "      <td>-0.148521</td>\n",
       "      <td>40.456833</td>\n",
       "      <td>-0.048914</td>\n",
       "    </tr>\n",
       "    <tr>\n",
       "      <th>7</th>\n",
       "      <td>2019-04-01</td>\n",
       "      <td>131054.937778</td>\n",
       "      <td>121876.366551</td>\n",
       "      <td>181095.206469</td>\n",
       "      <td>197857.786242</td>\n",
       "      <td>3234.843260</td>\n",
       "      <td>0.247286</td>\n",
       "      <td>40.513536</td>\n",
       "      <td>0.001402</td>\n",
       "    </tr>\n",
       "    <tr>\n",
       "      <th>8</th>\n",
       "      <td>2019-05-01</td>\n",
       "      <td>121876.366551</td>\n",
       "      <td>218701.840227</td>\n",
       "      <td>224834.615515</td>\n",
       "      <td>200401.076717</td>\n",
       "      <td>3673.502005</td>\n",
       "      <td>0.135604</td>\n",
       "      <td>33.177161</td>\n",
       "      <td>-0.181085</td>\n",
       "    </tr>\n",
       "    <tr>\n",
       "      <th>9</th>\n",
       "      <td>2019-06-01</td>\n",
       "      <td>218701.840227</td>\n",
       "      <td>202707.412629</td>\n",
       "      <td>240276.209019</td>\n",
       "      <td>186254.110968</td>\n",
       "      <td>6021.450299</td>\n",
       "      <td>0.639158</td>\n",
       "      <td>36.320459</td>\n",
       "      <td>0.094743</td>\n",
       "    </tr>\n",
       "  </tbody>\n",
       "</table>\n",
       "</div>"
      ],
      "text/plain": [
       "      Months  Total Sales ($)  Previous Month Sales  Rolling Sales (3 months)  \\\n",
       "0 2018-09-01       679.796207           9847.971509              13743.421571   \n",
       "1 2018-10-01      9847.971509          17585.544522              14969.183122   \n",
       "2 2018-11-01     17585.544522          13796.748683              52295.439892   \n",
       "3 2018-12-01     13796.748683          13525.256162              82671.527400   \n",
       "4 2019-01-01     13525.256162         129564.314831             121848.087938   \n",
       "5 2019-02-01    129564.314831         104925.011206             119285.438512   \n",
       "6 2019-03-01    104925.011206         131054.937778             157211.048185   \n",
       "7 2019-04-01    131054.937778         121876.366551             181095.206469   \n",
       "8 2019-05-01    121876.366551         218701.840227             224834.615515   \n",
       "9 2019-06-01    218701.840227         202707.412629             240276.209019   \n",
       "\n",
       "   Rolling Sales (6 months)  Total Units  vs. Prior Period (Totla Units)  \\\n",
       "0              48207.474485    29.758195                       -0.934166   \n",
       "1              68408.635530   390.194917                       12.112184   \n",
       "2              85790.439202   636.899760                        0.632261   \n",
       "3             119941.287792   506.255493                       -0.205125   \n",
       "4             151471.647204   561.925335                        0.109964   \n",
       "5             172060.027014  3045.884273                        4.420443   \n",
       "6             198743.628602  2593.505278                       -0.148521   \n",
       "7             197857.786242  3234.843260                        0.247286   \n",
       "8             200401.076717  3673.502005                        0.135604   \n",
       "9             186254.110968  6021.450299                        0.639158   \n",
       "\n",
       "         ARP  vs. Prior Period (ARP)  \n",
       "0  22.844000                     NaN  \n",
       "1  25.238595                0.104824  \n",
       "2  27.611165                0.094006  \n",
       "3  27.252541               -0.012988  \n",
       "4  24.069490               -0.116798  \n",
       "5  42.537504                0.767279  \n",
       "6  40.456833               -0.048914  \n",
       "7  40.513536                0.001402  \n",
       "8  33.177161               -0.181085  \n",
       "9  36.320459                0.094743  "
      ]
     },
     "execution_count": 11,
     "metadata": {},
     "output_type": "execute_result"
    }
   ],
   "source": [
    "# Convert months column data into datetime\n",
    "brandARP = avgRetail[avgRetail.Brands == brandName].drop(['Brands'], 1)\n",
    "brandARP[\"Months\"] = pd.to_datetime(brandARP[\"Months\"])\n",
    "# rename the features name\n",
    "# since in the total_units dataset, ther is also a feature\n",
    "# called \"vs. Prior Period\"\n",
    "brandARP = brandARP.rename(columns={\"vs. Prior Period\" : \"vs. Prior Period (ARP)\"})\n",
    "\n",
    "# merge the feature into the sales dataset)\n",
    "brandData = brandData.merge(brandARP, left_on=\"Months\", right_on=\"Months\")\n",
    "brandData = brandData.rename(columns={\"vs. Prior Period\" : \"vs. Prior Period (Totla Units)\"})\n",
    "brandData.head(10)"
   ]
  },
  {
   "attachments": {},
   "cell_type": "markdown",
   "metadata": {},
   "source": [
    "##### Add from brand details dataset"
   ]
  },
  {
   "cell_type": "code",
   "execution_count": 12,
   "metadata": {},
   "outputs": [
    {
     "name": "stdout",
     "output_type": "stream",
     "text": [
      "State\n",
      "Channel\n",
      "Category L1\n",
      "Category L2\n",
      "Category L3\n",
      "Category L4\n",
      "Category L5\n",
      "Brand\n",
      "Product Description\n",
      "Total Sales ($)\n",
      "Total Units\n",
      "ARP\n",
      "Flavor\n",
      "Items Per Pack\n",
      "Item Weight\n",
      "Total THC\n",
      "Total CBD\n",
      "Contains CBD\n",
      "Pax Filter\n",
      "Strain\n",
      "Is Flavored\n",
      "Mood Effect\n",
      "Generic Vendor\n",
      "Generic Items\n",
      "$5 Price Increment\n"
     ]
    },
    {
     "data": {
      "text/plain": [
       "'\\nprint(np.mean(list(brandData[\"ARP\"])))\\nprint(np.mean(list(bdData[\"ARP\"])))\\n'"
      ]
     },
     "execution_count": 12,
     "metadata": {},
     "output_type": "execute_result"
    }
   ],
   "source": [
    "import numpy as np\n",
    "# info aobut brain details\n",
    "bdData = brandDetail[brandDetail.Brand == brandName]\n",
    "\n",
    "bdColNames = bdData.columns.tolist()\n",
    "for feature in bdColNames: \n",
    "    print(feature)\n",
    "'''\n",
    "print(np.mean(list(brandData[\"ARP\"])))\n",
    "print(np.mean(list(bdData[\"ARP\"])))\n",
    "'''"
   ]
  },
  {
   "cell_type": "code",
   "execution_count": 13,
   "metadata": {},
   "outputs": [
    {
     "data": {
      "text/plain": [
       "Licensed    113\n",
       "Name: Channel, dtype: int64"
      ]
     },
     "execution_count": 13,
     "metadata": {},
     "output_type": "execute_result"
    }
   ],
   "source": [
    "bdData[\"Channel\"].value_counts()"
   ]
  },
  {
   "attachments": {},
   "cell_type": "markdown",
   "metadata": {},
   "source": [
    "## Explore Data \n",
    "- Visualize Data \n",
    "- Explore data (correlation)\n",
    "- Objective of features combination"
   ]
  },
  {
   "cell_type": "code",
   "execution_count": 14,
   "metadata": {},
   "outputs": [],
   "source": [
    "import matplotlib.pyplot as plt\n",
    "import seaborn as sns"
   ]
  },
  {
   "attachments": {},
   "cell_type": "markdown",
   "metadata": {},
   "source": [
    "## Data Preprocessing\n",
    "- Develope several pipeline\n",
    "- Visualize pipelines \n",
    "- (pipeline update -- base on training result) "
   ]
  },
  {
   "cell_type": "code",
   "execution_count": 15,
   "metadata": {},
   "outputs": [],
   "source": [
    "from sklearn.pipeline import Pipeline\n",
    "from sklearn.pipeline import make_pipeline\n",
    "\n"
   ]
  },
  {
   "attachments": {},
   "cell_type": "markdown",
   "metadata": {},
   "source": [
    "## Hyper-parameters\n",
    "- Test/Train ratio\n",
    "- Hyperparameters for traning\n",
    "- Hyperparameters for model "
   ]
  },
  {
   "cell_type": "code",
   "execution_count": null,
   "metadata": {},
   "outputs": [],
   "source": []
  },
  {
   "attachments": {},
   "cell_type": "markdown",
   "metadata": {},
   "source": [
    "## Split Datasets\n",
    "- Split into training/validation and testing dataset"
   ]
  },
  {
   "cell_type": "code",
   "execution_count": 16,
   "metadata": {},
   "outputs": [],
   "source": [
    "from sklearn.model_selection import train_test_split"
   ]
  },
  {
   "attachments": {},
   "cell_type": "markdown",
   "metadata": {},
   "source": [
    "## Deploy ML/DL\n",
    "- Model selection\n",
    "- Comparison between each baseline models\n",
    "- Select best baseline model\n",
    "- Search for best parameters (grid/random search)"
   ]
  },
  {
   "cell_type": "code",
   "execution_count": null,
   "metadata": {},
   "outputs": [],
   "source": []
  },
  {
   "attachments": {},
   "cell_type": "markdown",
   "metadata": {},
   "source": [
    "## Visualize Result \n",
    "- Visualization result\n",
    "    - Tableau\n",
    "    - Seaborn\n",
    "- Check important features \n",
    "    - Go back to exploring data (if necessary)"
   ]
  },
  {
   "cell_type": "code",
   "execution_count": null,
   "metadata": {},
   "outputs": [],
   "source": []
  }
 ],
 "metadata": {
  "kernelspec": {
   "display_name": "datascience-3.10.9",
   "language": "python",
   "name": "python3"
  },
  "language_info": {
   "codemirror_mode": {
    "name": "ipython",
    "version": 3
   },
   "file_extension": ".py",
   "mimetype": "text/x-python",
   "name": "python",
   "nbconvert_exporter": "python",
   "pygments_lexer": "ipython3",
   "version": "3.10.9"
  },
  "orig_nbformat": 4,
  "vscode": {
   "interpreter": {
    "hash": "99d106c35216c885fdbf4ab3ccbd60dcc461b6113245aaa51ea6dc46c63d0b1a"
   }
  }
 },
 "nbformat": 4,
 "nbformat_minor": 2
}
