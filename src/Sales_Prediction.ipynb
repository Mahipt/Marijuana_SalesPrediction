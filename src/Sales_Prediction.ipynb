{
 "cells": [
  {
   "attachments": {},
   "cell_type": "markdown",
   "metadata": {},
   "source": [
    "# Marijuana Sales Prediction"
   ]
  },
  {
   "attachments": {},
   "cell_type": "markdown",
   "metadata": {},
   "source": [
    "## Projects Objective\n",
    "- Goal: Predict sales of each brand\n",
    "- Sub-problems: "
   ]
  },
  {
   "attachments": {},
   "cell_type": "markdown",
   "metadata": {},
   "source": [
    "## Import Required Libraries"
   ]
  },
  {
   "cell_type": "code",
   "execution_count": 204,
   "metadata": {},
   "outputs": [],
   "source": [
    "# import systems tools \n",
    "import os \n",
    "import sys\n",
    "\n",
    "# import numerical tools\n",
    "import numpy as np \n",
    "import pandas as pd\n",
    "import seaborn as sns\n",
    "import matplotlib.pyplot as plt \n",
    "import warnings\n"
   ]
  },
  {
   "attachments": {},
   "cell_type": "markdown",
   "metadata": {},
   "source": [
    "## Load Data\n",
    "- Load from local dataset"
   ]
  },
  {
   "cell_type": "code",
   "execution_count": 205,
   "metadata": {},
   "outputs": [],
   "source": [
    "%reload_ext autoreload\n",
    "%autoreload 2\n",
    "import warnings\n",
    "warnings.filterwarnings('ignore')\n",
    "# import required packages\n",
    "import sys\n",
    "import os\n",
    "import pandas as pd\n",
    "# Load Dataset\n",
    "avgRetail = pd.read_csv(\"../data/BrandAverageRetailPrice.csv\")\n",
    "brandDetail = pd.read_csv(\"../data/BrandDetails.csv\")\n",
    "totalSales = pd.read_csv(\"../data/BrandTotalSales.csv\")\n",
    "totalUnits = pd.read_csv(\"../data/BrandTotalUnits.csv\")"
   ]
  },
  {
   "attachments": {},
   "cell_type": "markdown",
   "metadata": {},
   "source": [
    "## Construct Dataset \n",
    "- Time-series data\n",
    "    - Convert into same time-stamp format\n",
    "- Clean Data \n",
    "    - without imputation\n",
    "- Feature Engineering\n",
    "    - Feature augmentation\n",
    "    - Combining feature in same/different datasets"
   ]
  },
  {
   "attachments": {},
   "cell_type": "markdown",
   "metadata": {},
   "source": [
    "### Find the dataset to start with\n",
    "- Criteria: Information of each datasets\n",
    "- Objective: Since the final goal is to predict the future sales, we start with the dataset that seems to have strong correlation with sales, and also with few feature to start with. "
   ]
  },
  {
   "attachments": {},
   "cell_type": "markdown",
   "metadata": {},
   "source": [
    "#### Total Sales dataset"
   ]
  },
  {
   "cell_type": "code",
   "execution_count": 206,
   "metadata": {},
   "outputs": [
    {
     "name": "stdout",
     "output_type": "stream",
     "text": [
      "<class 'pandas.core.frame.DataFrame'>\n",
      "RangeIndex: 25279 entries, 0 to 25278\n",
      "Data columns (total 3 columns):\n",
      " #   Column           Non-Null Count  Dtype \n",
      "---  ------           --------------  ----- \n",
      " 0   Months           25279 non-null  object\n",
      " 1   Brand            25279 non-null  object\n",
      " 2   Total Sales ($)  25279 non-null  object\n",
      "dtypes: object(3)\n",
      "memory usage: 592.6+ KB\n"
     ]
    },
    {
     "data": {
      "text/html": [
       "<div>\n",
       "<style scoped>\n",
       "    .dataframe tbody tr th:only-of-type {\n",
       "        vertical-align: middle;\n",
       "    }\n",
       "\n",
       "    .dataframe tbody tr th {\n",
       "        vertical-align: top;\n",
       "    }\n",
       "\n",
       "    .dataframe thead th {\n",
       "        text-align: right;\n",
       "    }\n",
       "</style>\n",
       "<table border=\"1\" class=\"dataframe\">\n",
       "  <thead>\n",
       "    <tr style=\"text-align: right;\">\n",
       "      <th></th>\n",
       "      <th>Months</th>\n",
       "      <th>Brand</th>\n",
       "      <th>Total Sales ($)</th>\n",
       "    </tr>\n",
       "  </thead>\n",
       "  <tbody>\n",
       "    <tr>\n",
       "      <th>0</th>\n",
       "      <td>09/2018</td>\n",
       "      <td>10x Infused</td>\n",
       "      <td>1,711.334232</td>\n",
       "    </tr>\n",
       "    <tr>\n",
       "      <th>1</th>\n",
       "      <td>09/2018</td>\n",
       "      <td>1964 Supply Co.</td>\n",
       "      <td>25,475.21594500000</td>\n",
       "    </tr>\n",
       "    <tr>\n",
       "      <th>2</th>\n",
       "      <td>09/2018</td>\n",
       "      <td>3 Bros Grow</td>\n",
       "      <td>120,153.644757</td>\n",
       "    </tr>\n",
       "    <tr>\n",
       "      <th>3</th>\n",
       "      <td>09/2018</td>\n",
       "      <td>3 Leaf</td>\n",
       "      <td>6,063.5297850000000</td>\n",
       "    </tr>\n",
       "    <tr>\n",
       "      <th>4</th>\n",
       "      <td>09/2018</td>\n",
       "      <td>350 Fire</td>\n",
       "      <td>631,510.0481550000</td>\n",
       "    </tr>\n",
       "  </tbody>\n",
       "</table>\n",
       "</div>"
      ],
      "text/plain": [
       "    Months            Brand      Total Sales ($)\n",
       "0  09/2018      10x Infused         1,711.334232\n",
       "1  09/2018  1964 Supply Co.   25,475.21594500000\n",
       "2  09/2018      3 Bros Grow       120,153.644757\n",
       "3  09/2018           3 Leaf  6,063.5297850000000\n",
       "4  09/2018         350 Fire   631,510.0481550000"
      ]
     },
     "execution_count": 206,
     "metadata": {},
     "output_type": "execute_result"
    }
   ],
   "source": [
    "totalSales.info()\n",
    "totalSales.head(5)"
   ]
  },
  {
   "attachments": {},
   "cell_type": "markdown",
   "metadata": {},
   "source": [
    "#### Total units dataset"
   ]
  },
  {
   "cell_type": "code",
   "execution_count": 207,
   "metadata": {},
   "outputs": [
    {
     "name": "stdout",
     "output_type": "stream",
     "text": [
      "<class 'pandas.core.frame.DataFrame'>\n",
      "RangeIndex: 27686 entries, 0 to 27685\n",
      "Data columns (total 4 columns):\n",
      " #   Column            Non-Null Count  Dtype  \n",
      "---  ------            --------------  -----  \n",
      " 0   Brands            27686 non-null  object \n",
      " 1   Months            27686 non-null  object \n",
      " 2   Total Units       25712 non-null  object \n",
      " 3   vs. Prior Period  24935 non-null  float64\n",
      "dtypes: float64(1), object(3)\n",
      "memory usage: 865.3+ KB\n"
     ]
    },
    {
     "data": {
      "text/html": [
       "<div>\n",
       "<style scoped>\n",
       "    .dataframe tbody tr th:only-of-type {\n",
       "        vertical-align: middle;\n",
       "    }\n",
       "\n",
       "    .dataframe tbody tr th {\n",
       "        vertical-align: top;\n",
       "    }\n",
       "\n",
       "    .dataframe thead th {\n",
       "        text-align: right;\n",
       "    }\n",
       "</style>\n",
       "<table border=\"1\" class=\"dataframe\">\n",
       "  <thead>\n",
       "    <tr style=\"text-align: right;\">\n",
       "      <th></th>\n",
       "      <th>Brands</th>\n",
       "      <th>Months</th>\n",
       "      <th>Total Units</th>\n",
       "      <th>vs. Prior Period</th>\n",
       "    </tr>\n",
       "  </thead>\n",
       "  <tbody>\n",
       "    <tr>\n",
       "      <th>0</th>\n",
       "      <td>#BlackSeries</td>\n",
       "      <td>08/2020</td>\n",
       "      <td>1,616.3390040000000</td>\n",
       "      <td>NaN</td>\n",
       "    </tr>\n",
       "    <tr>\n",
       "      <th>1</th>\n",
       "      <td>#BlackSeries</td>\n",
       "      <td>09/2020</td>\n",
       "      <td>NaN</td>\n",
       "      <td>-1.000000</td>\n",
       "    </tr>\n",
       "    <tr>\n",
       "      <th>2</th>\n",
       "      <td>#BlackSeries</td>\n",
       "      <td>01/2021</td>\n",
       "      <td>715.5328380000000</td>\n",
       "      <td>NaN</td>\n",
       "    </tr>\n",
       "    <tr>\n",
       "      <th>3</th>\n",
       "      <td>#BlackSeries</td>\n",
       "      <td>02/2021</td>\n",
       "      <td>766.669135</td>\n",
       "      <td>0.071466</td>\n",
       "    </tr>\n",
       "    <tr>\n",
       "      <th>4</th>\n",
       "      <td>#BlackSeries</td>\n",
       "      <td>03/2021</td>\n",
       "      <td>NaN</td>\n",
       "      <td>-1.000000</td>\n",
       "    </tr>\n",
       "  </tbody>\n",
       "</table>\n",
       "</div>"
      ],
      "text/plain": [
       "         Brands   Months          Total Units  vs. Prior Period\n",
       "0  #BlackSeries  08/2020  1,616.3390040000000               NaN\n",
       "1  #BlackSeries  09/2020                  NaN         -1.000000\n",
       "2  #BlackSeries  01/2021    715.5328380000000               NaN\n",
       "3  #BlackSeries  02/2021           766.669135          0.071466\n",
       "4  #BlackSeries  03/2021                  NaN         -1.000000"
      ]
     },
     "execution_count": 207,
     "metadata": {},
     "output_type": "execute_result"
    }
   ],
   "source": [
    "totalUnits.info()\n",
    "totalUnits.head(5)\n",
    "# find out how many brand do we have currently"
   ]
  },
  {
   "attachments": {},
   "cell_type": "markdown",
   "metadata": {},
   "source": [
    "### Clean the choosen dataset\n",
    "- Selected dataset: Total Sales\n",
    "- Breakdown: Base-on different brand\n",
    "- Reason: \n",
    "    - It contains more information about salses. \n",
    "    - It has much narrow data in brand features. "
   ]
  },
  {
   "attachments": {},
   "cell_type": "markdown",
   "metadata": {},
   "source": [
    "#### Preprocess the selected dataset"
   ]
  },
  {
   "cell_type": "code",
   "execution_count": 208,
   "metadata": {},
   "outputs": [
    {
     "name": "stdout",
     "output_type": "stream",
     "text": [
      "<class 'pandas.core.frame.DataFrame'>\n",
      "RangeIndex: 25279 entries, 0 to 25278\n",
      "Data columns (total 3 columns):\n",
      " #   Column           Non-Null Count  Dtype         \n",
      "---  ------           --------------  -----         \n",
      " 0   Months           25279 non-null  datetime64[ns]\n",
      " 1   Brand            25279 non-null  object        \n",
      " 2   Total Sales ($)  25279 non-null  float64       \n",
      "dtypes: datetime64[ns](1), float64(1), object(1)\n",
      "memory usage: 592.6+ KB\n"
     ]
    }
   ],
   "source": [
    "# convert the time stamp dataset\n",
    "totalSales[\"Months\"] = totalSales[\"Months\"].astype(str).astype('datetime64[ns]')\n",
    "# convert salses data to numerical data form\n",
    "totalSales[\"Total Sales ($)\"] = totalSales[\"Total Sales ($)\"].str.replace(',','')\n",
    "totalSales[\"Total Sales ($)\"] = totalSales[\"Total Sales ($)\"].astype(float)\n",
    "totalSales.info()"
   ]
  },
  {
   "attachments": {},
   "cell_type": "markdown",
   "metadata": {},
   "source": [
    "#### Find out all the brand name"
   ]
  },
  {
   "cell_type": "code",
   "execution_count": 209,
   "metadata": {},
   "outputs": [
    {
     "name": "stdout",
     "output_type": "stream",
     "text": [
      "==================================\n",
      "Total: 1627 different brands\n",
      "==================================\n"
     ]
    }
   ],
   "source": [
    "brands = list(totalSales[\"Brand\"].unique())\n",
    "print(\"==================================\")\n",
    "print(\"Total: {} different brands\".format(brands.__len__()))\n",
    "print(\"==================================\")"
   ]
  },
  {
   "attachments": {},
   "cell_type": "markdown",
   "metadata": {},
   "source": [
    "#### Select Brand with Enough Data\n",
    "- Start with the brand that has much information. "
   ]
  },
  {
   "cell_type": "code",
   "execution_count": 210,
   "metadata": {},
   "outputs": [
    {
     "name": "stdout",
     "output_type": "stream",
     "text": [
      "============Current Threshold for Number of Data: 37===========\n"
     ]
    },
    {
     "data": {
      "image/png": "[encoded data removed]",
      "text/plain": [
       "<Figure size 640x480 with 1 Axes>"
      ]
     },
     "metadata": {},
     "output_type": "display_data"
    }
   ],
   "source": [
    "import matplotlib.pyplot as plt\n",
    "# start with one of the brand\n",
    "# only list-out top three brand\n",
    "brands_data_num = pd.DataFrame()\n",
    "brands_data_num.loc[:, \"Brand\"] = totalSales.loc[:, \"Brand\"]\n",
    "brands_data_num.loc[:, \"Count\"] = [1]*len(totalSales[\"Brand\"])\n",
    "brands_data_num = brands_data_num.groupby([\"Brand\"]).sum().sort_values(\"Count\", ascending=False)\n",
    "\n",
    "# Only pick the brands with enough number of data\n",
    "numDataThreshold = brands_data_num[\"Count\"].max()\n",
    "print(\"============Current Threshold for Number of Data: {}===========\".format(numDataThreshold))\n",
    "brands_filtered = brands_data_num[brands_data_num.Count >= numDataThreshold]\n",
    "brands_filtered.head(10).plot(kind=\"bar\")\n",
    "plt.show()"
   ]
  },
  {
   "attachments": {},
   "cell_type": "markdown",
   "metadata": {},
   "source": [
    "### Feature Engineering \n",
    "- Transform and add more features in the selected dataset. \n",
    "- Add more features from other related datasets. "
   ]
  },
  {
   "attachments": {},
   "cell_type": "markdown",
   "metadata": {},
   "source": [
    "#### Sales info about selected brand"
   ]
  },
  {
   "cell_type": "code",
   "execution_count": 211,
   "metadata": {},
   "outputs": [],
   "source": [
    "brandName = \"Kingpen\"\n",
    "brandData = totalSales[totalSales.Brand == brandName].drop(['Brand'], 1)"
   ]
  },
  {
   "attachments": {},
   "cell_type": "markdown",
   "metadata": {},
   "source": [
    "#### Adding Features to Dataset"
   ]
  },
  {
   "cell_type": "code",
   "execution_count": 212,
   "metadata": {},
   "outputs": [
    {
     "data": {
      "text/html": [
       "<div>\n",
       "<style scoped>\n",
       "    .dataframe tbody tr th:only-of-type {\n",
       "        vertical-align: middle;\n",
       "    }\n",
       "\n",
       "    .dataframe tbody tr th {\n",
       "        vertical-align: top;\n",
       "    }\n",
       "\n",
       "    .dataframe thead th {\n",
       "        text-align: right;\n",
       "    }\n",
       "</style>\n",
       "<table border=\"1\" class=\"dataframe\">\n",
       "  <thead>\n",
       "    <tr style=\"text-align: right;\">\n",
       "      <th></th>\n",
       "      <th>Months</th>\n",
       "      <th>Total Sales ($)</th>\n",
       "      <th>Previous Month Sales</th>\n",
       "      <th>Rolling Sales (3 months)</th>\n",
       "      <th>Rolling Sales (6 months)</th>\n",
       "    </tr>\n",
       "  </thead>\n",
       "  <tbody>\n",
       "    <tr>\n",
       "      <th>234</th>\n",
       "      <td>2018-09-01</td>\n",
       "      <td>1.114443e+06</td>\n",
       "      <td>2.632638e+06</td>\n",
       "      <td>2.550175e+06</td>\n",
       "      <td>2.439767e+06</td>\n",
       "    </tr>\n",
       "    <tr>\n",
       "      <th>708</th>\n",
       "      <td>2018-10-01</td>\n",
       "      <td>2.632638e+06</td>\n",
       "      <td>2.443997e+06</td>\n",
       "      <td>2.402470e+06</td>\n",
       "      <td>2.389068e+06</td>\n",
       "    </tr>\n",
       "    <tr>\n",
       "      <th>1209</th>\n",
       "      <td>2018-11-01</td>\n",
       "      <td>2.443997e+06</td>\n",
       "      <td>2.573889e+06</td>\n",
       "      <td>2.349194e+06</td>\n",
       "      <td>2.379411e+06</td>\n",
       "    </tr>\n",
       "    <tr>\n",
       "      <th>1745</th>\n",
       "      <td>2018-12-01</td>\n",
       "      <td>2.573889e+06</td>\n",
       "      <td>2.189523e+06</td>\n",
       "      <td>2.329359e+06</td>\n",
       "      <td>2.327181e+06</td>\n",
       "    </tr>\n",
       "    <tr>\n",
       "      <th>2282</th>\n",
       "      <td>2019-01-01</td>\n",
       "      <td>2.189523e+06</td>\n",
       "      <td>2.284169e+06</td>\n",
       "      <td>2.375666e+06</td>\n",
       "      <td>2.369494e+06</td>\n",
       "    </tr>\n",
       "  </tbody>\n",
       "</table>\n",
       "</div>"
      ],
      "text/plain": [
       "         Months  Total Sales ($)  Previous Month Sales  \\\n",
       "234  2018-09-01     1.114443e+06          2.632638e+06   \n",
       "708  2018-10-01     2.632638e+06          2.443997e+06   \n",
       "1209 2018-11-01     2.443997e+06          2.573889e+06   \n",
       "1745 2018-12-01     2.573889e+06          2.189523e+06   \n",
       "2282 2019-01-01     2.189523e+06          2.284169e+06   \n",
       "\n",
       "      Rolling Sales (3 months)  Rolling Sales (6 months)  \n",
       "234               2.550175e+06              2.439767e+06  \n",
       "708               2.402470e+06              2.389068e+06  \n",
       "1209              2.349194e+06              2.379411e+06  \n",
       "1745              2.329359e+06              2.327181e+06  \n",
       "2282              2.375666e+06              2.369494e+06  "
      ]
     },
     "execution_count": 212,
     "metadata": {},
     "output_type": "execute_result"
    }
   ],
   "source": [
    "#  adding from current dataset \n",
    "#==============add last month data===============================================\n",
    "brandData.loc[:, 'Previous Month Sales'] = brandData.loc[:,\"Total Sales ($)\"].shift(-1)\n",
    "\n",
    "#===========Adding Rolling Sales Data===========\n",
    "# add rolling sales data (for three months)\n",
    "# calcualte the sum\n",
    "rollSum, rollMonths = 0, 3\n",
    "for month in range(1, rollMonths + 1): \n",
    "    rollSum += brandData.loc[:,\"Total Sales ($)\"].shift(-1 * month)\n",
    "brandData.loc[:, 'Rolling Sales (3 months)'] = rollSum / rollMonths\n",
    "\n",
    "# add rolling sales data (for six months)\n",
    "rollSum, rollMonths = 0, 6\n",
    "for month in range(1, rollMonths + 1): \n",
    "    rollSum += brandData.loc[:,\"Total Sales ($)\"].shift(-1 * month)\n",
    "brandData.loc[:, 'Rolling Sales (6 months)'] = rollSum / rollMonths\n",
    "\n",
    "brandData.head()"
   ]
  },
  {
   "attachments": {},
   "cell_type": "markdown",
   "metadata": {},
   "source": [
    "##### Add from total_unit dataset"
   ]
  },
  {
   "cell_type": "code",
   "execution_count": 213,
   "metadata": {},
   "outputs": [
    {
     "name": "stdout",
     "output_type": "stream",
     "text": [
      "<class 'pandas.core.frame.DataFrame'>\n",
      "Int64Index: 37 entries, 0 to 36\n",
      "Data columns (total 7 columns):\n",
      " #   Column                    Non-Null Count  Dtype         \n",
      "---  ------                    --------------  -----         \n",
      " 0   Months                    37 non-null     datetime64[ns]\n",
      " 1   Total Sales ($)           37 non-null     float64       \n",
      " 2   Previous Month Sales      36 non-null     float64       \n",
      " 3   Rolling Sales (3 months)  34 non-null     float64       \n",
      " 4   Rolling Sales (6 months)  31 non-null     float64       \n",
      " 5   Total Units               37 non-null     float64       \n",
      " 6   vs. Prior Period          37 non-null     float64       \n",
      "dtypes: datetime64[ns](1), float64(6)\n",
      "memory usage: 2.3 KB\n"
     ]
    }
   ],
   "source": [
    "# general info\n",
    "brandUnits = totalUnits[totalUnits.Brands == brandName]\n",
    "brandUnits[\"Months\"] = pd.to_datetime(brandUnits[\"Months\"])\n",
    "brandUnits[\"Total Units\"] = brandUnits[\"Total Units\"].str.replace(',','')\n",
    "brandUnits[\"Total Units\"] = brandUnits[\"Total Units\"].astype(float)\n",
    "brandUnits = brandUnits.drop(['Brands'], 1)\n",
    "#===================Merge Data==================\n",
    "brandData = brandData.merge(brandUnits, right_on=\"Months\", left_on=\"Months\")\n",
    "brandData.info()"
   ]
  },
  {
   "attachments": {},
   "cell_type": "markdown",
   "metadata": {},
   "source": [
    "##### Add from average retail price dataset"
   ]
  },
  {
   "cell_type": "code",
   "execution_count": 214,
   "metadata": {},
   "outputs": [
    {
     "data": {
      "text/html": [
       "<div>\n",
       "<style scoped>\n",
       "    .dataframe tbody tr th:only-of-type {\n",
       "        vertical-align: middle;\n",
       "    }\n",
       "\n",
       "    .dataframe tbody tr th {\n",
       "        vertical-align: top;\n",
       "    }\n",
       "\n",
       "    .dataframe thead th {\n",
       "        text-align: right;\n",
       "    }\n",
       "</style>\n",
       "<table border=\"1\" class=\"dataframe\">\n",
       "  <thead>\n",
       "    <tr style=\"text-align: right;\">\n",
       "      <th></th>\n",
       "      <th>Months</th>\n",
       "      <th>Total Sales ($)</th>\n",
       "      <th>Previous Month Sales</th>\n",
       "      <th>Rolling Sales (3 months)</th>\n",
       "      <th>Rolling Sales (6 months)</th>\n",
       "      <th>Total Units</th>\n",
       "      <th>vs. Prior Period (Totla Units)</th>\n",
       "      <th>ARP</th>\n",
       "      <th>vs. Prior Period (ARP)</th>\n",
       "    </tr>\n",
       "  </thead>\n",
       "  <tbody>\n",
       "    <tr>\n",
       "      <th>0</th>\n",
       "      <td>2018-09-01</td>\n",
       "      <td>1.114443e+06</td>\n",
       "      <td>2.632638e+06</td>\n",
       "      <td>2.550175e+06</td>\n",
       "      <td>2.439767e+06</td>\n",
       "      <td>31631.770954</td>\n",
       "      <td>-0.128840</td>\n",
       "      <td>35.231759</td>\n",
       "      <td>NaN</td>\n",
       "    </tr>\n",
       "    <tr>\n",
       "      <th>1</th>\n",
       "      <td>2018-10-01</td>\n",
       "      <td>2.632638e+06</td>\n",
       "      <td>2.443997e+06</td>\n",
       "      <td>2.402470e+06</td>\n",
       "      <td>2.389068e+06</td>\n",
       "      <td>66336.619936</td>\n",
       "      <td>1.097152</td>\n",
       "      <td>39.686045</td>\n",
       "      <td>0.126428</td>\n",
       "    </tr>\n",
       "    <tr>\n",
       "      <th>2</th>\n",
       "      <td>2018-11-01</td>\n",
       "      <td>2.443997e+06</td>\n",
       "      <td>2.573889e+06</td>\n",
       "      <td>2.349194e+06</td>\n",
       "      <td>2.379411e+06</td>\n",
       "      <td>66353.701500</td>\n",
       "      <td>0.000257</td>\n",
       "      <td>36.832871</td>\n",
       "      <td>-0.071894</td>\n",
       "    </tr>\n",
       "    <tr>\n",
       "      <th>3</th>\n",
       "      <td>2018-12-01</td>\n",
       "      <td>2.573889e+06</td>\n",
       "      <td>2.189523e+06</td>\n",
       "      <td>2.329359e+06</td>\n",
       "      <td>2.327181e+06</td>\n",
       "      <td>72071.127847</td>\n",
       "      <td>0.086166</td>\n",
       "      <td>35.713177</td>\n",
       "      <td>-0.030399</td>\n",
       "    </tr>\n",
       "    <tr>\n",
       "      <th>4</th>\n",
       "      <td>2019-01-01</td>\n",
       "      <td>2.189523e+06</td>\n",
       "      <td>2.284169e+06</td>\n",
       "      <td>2.375666e+06</td>\n",
       "      <td>2.369494e+06</td>\n",
       "      <td>58684.322068</td>\n",
       "      <td>-0.185744</td>\n",
       "      <td>37.310181</td>\n",
       "      <td>0.044717</td>\n",
       "    </tr>\n",
       "    <tr>\n",
       "      <th>5</th>\n",
       "      <td>2019-02-01</td>\n",
       "      <td>2.284169e+06</td>\n",
       "      <td>2.514385e+06</td>\n",
       "      <td>2.409628e+06</td>\n",
       "      <td>2.303442e+06</td>\n",
       "      <td>58428.103252</td>\n",
       "      <td>-0.004366</td>\n",
       "      <td>39.093676</td>\n",
       "      <td>0.047802</td>\n",
       "    </tr>\n",
       "    <tr>\n",
       "      <th>6</th>\n",
       "      <td>2019-03-01</td>\n",
       "      <td>2.514385e+06</td>\n",
       "      <td>2.328444e+06</td>\n",
       "      <td>2.325002e+06</td>\n",
       "      <td>2.112088e+06</td>\n",
       "      <td>63988.879474</td>\n",
       "      <td>0.095173</td>\n",
       "      <td>39.294101</td>\n",
       "      <td>0.005127</td>\n",
       "    </tr>\n",
       "    <tr>\n",
       "      <th>7</th>\n",
       "      <td>2019-04-01</td>\n",
       "      <td>2.328444e+06</td>\n",
       "      <td>2.386055e+06</td>\n",
       "      <td>2.363321e+06</td>\n",
       "      <td>1.914987e+06</td>\n",
       "      <td>62542.924670</td>\n",
       "      <td>-0.022597</td>\n",
       "      <td>37.229531</td>\n",
       "      <td>-0.052541</td>\n",
       "    </tr>\n",
       "    <tr>\n",
       "      <th>8</th>\n",
       "      <td>2019-05-01</td>\n",
       "      <td>2.386055e+06</td>\n",
       "      <td>2.260507e+06</td>\n",
       "      <td>2.197255e+06</td>\n",
       "      <td>1.667668e+06</td>\n",
       "      <td>65992.881402</td>\n",
       "      <td>0.055161</td>\n",
       "      <td>36.156253</td>\n",
       "      <td>-0.028829</td>\n",
       "    </tr>\n",
       "    <tr>\n",
       "      <th>9</th>\n",
       "      <td>2019-06-01</td>\n",
       "      <td>2.260507e+06</td>\n",
       "      <td>2.443401e+06</td>\n",
       "      <td>1.899174e+06</td>\n",
       "      <td>1.480768e+06</td>\n",
       "      <td>65244.831215</td>\n",
       "      <td>-0.011335</td>\n",
       "      <td>34.646529</td>\n",
       "      <td>-0.041756</td>\n",
       "    </tr>\n",
       "  </tbody>\n",
       "</table>\n",
       "</div>"
      ],
      "text/plain": [
       "      Months  Total Sales ($)  Previous Month Sales  Rolling Sales (3 months)  \\\n",
       "0 2018-09-01     1.114443e+06          2.632638e+06              2.550175e+06   \n",
       "1 2018-10-01     2.632638e+06          2.443997e+06              2.402470e+06   \n",
       "2 2018-11-01     2.443997e+06          2.573889e+06              2.349194e+06   \n",
       "3 2018-12-01     2.573889e+06          2.189523e+06              2.329359e+06   \n",
       "4 2019-01-01     2.189523e+06          2.284169e+06              2.375666e+06   \n",
       "5 2019-02-01     2.284169e+06          2.514385e+06              2.409628e+06   \n",
       "6 2019-03-01     2.514385e+06          2.328444e+06              2.325002e+06   \n",
       "7 2019-04-01     2.328444e+06          2.386055e+06              2.363321e+06   \n",
       "8 2019-05-01     2.386055e+06          2.260507e+06              2.197255e+06   \n",
       "9 2019-06-01     2.260507e+06          2.443401e+06              1.899174e+06   \n",
       "\n",
       "   Rolling Sales (6 months)   Total Units  vs. Prior Period (Totla Units)  \\\n",
       "0              2.439767e+06  31631.770954                       -0.128840   \n",
       "1              2.389068e+06  66336.619936                        1.097152   \n",
       "2              2.379411e+06  66353.701500                        0.000257   \n",
       "3              2.327181e+06  72071.127847                        0.086166   \n",
       "4              2.369494e+06  58684.322068                       -0.185744   \n",
       "5              2.303442e+06  58428.103252                       -0.004366   \n",
       "6              2.112088e+06  63988.879474                        0.095173   \n",
       "7              1.914987e+06  62542.924670                       -0.022597   \n",
       "8              1.667668e+06  65992.881402                        0.055161   \n",
       "9              1.480768e+06  65244.831215                       -0.011335   \n",
       "\n",
       "         ARP  vs. Prior Period (ARP)  \n",
       "0  35.231759                     NaN  \n",
       "1  39.686045                0.126428  \n",
       "2  36.832871               -0.071894  \n",
       "3  35.713177               -0.030399  \n",
       "4  37.310181                0.044717  \n",
       "5  39.093676                0.047802  \n",
       "6  39.294101                0.005127  \n",
       "7  37.229531               -0.052541  \n",
       "8  36.156253               -0.028829  \n",
       "9  34.646529               -0.041756  "
      ]
     },
     "execution_count": 214,
     "metadata": {},
     "output_type": "execute_result"
    }
   ],
   "source": [
    "# Convert months column data into datetime\n",
    "brandARP = avgRetail[avgRetail.Brands == brandName].drop(['Brands'], 1)\n",
    "brandARP[\"Months\"] = pd.to_datetime(brandARP[\"Months\"])\n",
    "# rename the features name\n",
    "# since in the total_units dataset, ther is also a feature\n",
    "# called \"vs. Prior Period\"\n",
    "brandARP = brandARP.rename(columns={\"vs. Prior Period\" : \"vs. Prior Period (ARP)\"})\n",
    "\n",
    "# merge the feature into the sales dataset)\n",
    "brandData = brandData.merge(brandARP, left_on=\"Months\", right_on=\"Months\")\n",
    "brandData = brandData.rename(columns={\"vs. Prior Period\" : \"vs. Prior Period (Totla Units)\"})\n",
    "brandData.head(10)"
   ]
  },
  {
   "attachments": {},
   "cell_type": "markdown",
   "metadata": {},
   "source": [
    "##### Add from brand details dataset"
   ]
  },
  {
   "cell_type": "code",
   "execution_count": 215,
   "metadata": {},
   "outputs": [
    {
     "name": "stdout",
     "output_type": "stream",
     "text": [
      "State\n",
      "Channel\n",
      "Category L1\n",
      "Category L2\n",
      "Category L3\n",
      "Category L4\n",
      "Category L5\n",
      "Brand\n",
      "Product Description\n",
      "Total Sales ($)\n",
      "Total Units\n",
      "ARP\n",
      "Flavor\n",
      "Items Per Pack\n",
      "Item Weight\n",
      "Total THC\n",
      "Total CBD\n",
      "Contains CBD\n",
      "Pax Filter\n",
      "Strain\n",
      "Is Flavored\n",
      "Mood Effect\n",
      "Generic Vendor\n",
      "Generic Items\n",
      "$5 Price Increment\n"
     ]
    }
   ],
   "source": [
    "import numpy as np\n",
    "# info aobut brain details\n",
    "bdData = brandDetail[brandDetail.Brand == brandName]\n",
    "\n",
    "bdColNames = bdData.columns.tolist()\n",
    "for feature in bdColNames: \n",
    "    print(feature)"
   ]
  },
  {
   "attachments": {},
   "cell_type": "markdown",
   "metadata": {},
   "source": [
    "#### Explore Different Category Licences Data"
   ]
  },
  {
   "cell_type": "code",
   "execution_count": 223,
   "metadata": {},
   "outputs": [
    {
     "data": {
      "image/png": "[encoded data removed]",
      "text/plain": [
       "<Figure size 640x480 with 1 Axes>"
      ]
     },
     "metadata": {},
     "output_type": "display_data"
    },
    {
     "data": {
      "image/png": "[encoded data removed]",
      "text/plain": [
       "<Figure size 640x480 with 1 Axes>"
      ]
     },
     "metadata": {},
     "output_type": "display_data"
    }
   ],
   "source": [
    "catExplore = brandDetail.copy()\n",
    "\n",
    "# Each categories portion charts\n",
    "catIndex = [\"Category L\" + str(x) for x in range(1, 6) ]\n",
    "catNum = [sum(catExplore[x].value_counts(dropna=True)) for x in catIndex] # total number of product of each categories \n",
    "catSubNum = [len(catExplore[x].value_counts(dropna=True)) for x in catIndex] # number of total types of products in each categories\n",
    "\n",
    "catData = pd.DataFrame()\n",
    "catData.loc[:, \"Category\"] = catIndex\n",
    "catData.loc[:, \"Total_Num_of_Products\"] = catNum\n",
    "catData.loc[:, \"Total_Num_of_Products(%)\"] = [num/sum(catNum) for num in catNum]\n",
    "catData.loc[:, \"Total_Num_of_Types\"] = catSubNum\n",
    "\n",
    "sns.barplot(catData, x=\"Category\", y = \"Total_Num_of_Products\")\n",
    "plt.xlabel(\"Each Categories\")\n",
    "plt.ylabel(\"Nuber of Product\")\n",
    "plt.title(\"Total Number of Products\")\n",
    "plt.show()\n",
    "\n",
    "colors = sns.color_palette('pastel')[0:5]\n",
    "plt.title(\"Percentage of Each Catetories Product Sold\")\n",
    "plt.pie(catData[\"Total_Num_of_Products(%)\"], labels=catIndex, colors=colors, autopct='%.0f%%')\n",
    "plt.show()"
   ]
  },
  {
   "attachments": {},
   "cell_type": "markdown",
   "metadata": {},
   "source": [
    "##### Adding \"Category L1\" and \"Category L2\" as new features\n",
    "- Categories L1 and L2 are the most common sold product. \n",
    "- In L1: "
   ]
  },
  {
   "cell_type": "code",
   "execution_count": 268,
   "metadata": {},
   "outputs": [
    {
     "data": {
      "image/png": "[encoded data removed]",
      "text/plain": [
       "<Figure size 640x480 with 1 Axes>"
      ]
     },
     "metadata": {},
     "output_type": "display_data"
    },
    {
     "data": {
      "image/png": "[encoded data removed]",
      "text/plain": [
       "<Figure size 640x480 with 1 Axes>"
      ]
     },
     "metadata": {},
     "output_type": "display_data"
    }
   ],
   "source": [
    "# Compare L1 Categories in different brand\n",
    "L1_comp = dict()\n",
    "for brand in brands_filtered.index[0:10]:\n",
    "    bdTempt = brandDetail[brandDetail.Brand == brand]\n",
    "    L1_types = bdTempt[\"Category L1\"].value_counts().index\n",
    "    L1_values = bdTempt[\"Category L1\"].value_counts().values\n",
    "    L1_tempt = dict(zip(L1_types, L1_values))\n",
    "    for key, value in L1_tempt.items(): \n",
    "        if L1_comp.get(key) is None: \n",
    "            L1_comp[key] = value\n",
    "        else: \n",
    "            L1_comp[key] += value\n",
    "\n",
    "L1_comp_df = pd.DataFrame()\n",
    "L1_comp_df.loc[:, \"Product_Type\"] = [x for x, _ in L1_comp.items()]\n",
    "L1_comp_df.loc[:, \"Total_Number\"] = [x for _, x in L1_comp.items()]\n",
    "L1_comp_df.loc[:, \"Percentage\"] = [x/sum(L1_comp_df[\"Total_Number\"].values) for _, x in L1_comp.items()]\n",
    "L1_comp_df.head()\n",
    "sns.barplot(data=L1_comp_df, x='Product_Type', y= \"Total_Number\").set(title=\"Number of Each Type of Product in L1\")\n",
    "plt.show()\n",
    "\n",
    "colors = sns.color_palette('pastel')[0:5]\n",
    "plt.title(\"Percentage of Each Type of Products in L1\")\n",
    "plt.pie(L1_comp_df[\"Percentage\"], labels=L1_comp_df[\"Product_Type\"], colors=colors, autopct='%.0f%%')\n",
    "plt.show()"
   ]
  },
  {
   "attachments": {},
   "cell_type": "markdown",
   "metadata": {},
   "source": [
    "## Explore Data \n",
    "- Visualize Data \n",
    "- Explore data (correlation)\n",
    "- Objective of features combination"
   ]
  },
  {
   "cell_type": "code",
   "execution_count": 218,
   "metadata": {},
   "outputs": [],
   "source": [
    "import matplotlib.pyplot as plt\n",
    "import seaborn as sns"
   ]
  },
  {
   "attachments": {},
   "cell_type": "markdown",
   "metadata": {},
   "source": [
    "## Data Preprocessing\n",
    "- Develope several pipeline\n",
    "- Visualize pipelines \n",
    "- (pipeline update -- base on training result) "
   ]
  },
  {
   "cell_type": "code",
   "execution_count": 219,
   "metadata": {},
   "outputs": [],
   "source": [
    "from sklearn.pipeline import Pipeline\n",
    "from sklearn.pipeline import make_pipeline\n",
    "\n"
   ]
  },
  {
   "attachments": {},
   "cell_type": "markdown",
   "metadata": {},
   "source": [
    "## Hyper-parameters\n",
    "- Test/Train ratio\n",
    "- Hyperparameters for traning\n",
    "- Hyperparameters for model "
   ]
  },
  {
   "cell_type": "code",
   "execution_count": null,
   "metadata": {},
   "outputs": [],
   "source": []
  },
  {
   "attachments": {},
   "cell_type": "markdown",
   "metadata": {},
   "source": [
    "## Split Datasets\n",
    "- Split into training/validation and testing dataset"
   ]
  },
  {
   "cell_type": "code",
   "execution_count": 220,
   "metadata": {},
   "outputs": [],
   "source": [
    "from sklearn.model_selection import train_test_split"
   ]
  },
  {
   "attachments": {},
   "cell_type": "markdown",
   "metadata": {},
   "source": [
    "## Deploy ML/DL\n",
    "- Model selection\n",
    "- Comparison between each baseline models\n",
    "- Select best baseline model\n",
    "- Search for best parameters (grid/random search)"
   ]
  },
  {
   "cell_type": "code",
   "execution_count": null,
   "metadata": {},
   "outputs": [],
   "source": []
  },
  {
   "attachments": {},
   "cell_type": "markdown",
   "metadata": {},
   "source": [
    "## Visualize Result \n",
    "- Visualization result\n",
    "    - Tableau\n",
    "    - Seaborn\n",
    "- Check important features \n",
    "    - Go back to exploring data (if necessary)"
   ]
  },
  {
   "cell_type": "code",
   "execution_count": null,
   "metadata": {},
   "outputs": [],
   "source": []
  }
 ],
 "metadata": {
  "kernelspec": {
   "display_name": "datascience-3.10.9",
   "language": "python",
   "name": "python3"
  },
  "language_info": {
   "codemirror_mode": {
    "name": "ipython",
    "version": 3
   },
   "file_extension": ".py",
   "mimetype": "text/x-python",
   "name": "python",
   "nbconvert_exporter": "python",
   "pygments_lexer": "ipython3",
   "version": "3.10.9"
  },
  "orig_nbformat": 4,
  "vscode": {
   "interpreter": {
    "hash": "99d106c35216c885fdbf4ab3ccbd60dcc461b6113245aaa51ea6dc46c63d0b1a"
   }
  }
 },
 "nbformat": 4,
 "nbformat_minor": 2
}
