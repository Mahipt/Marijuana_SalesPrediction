{
 "cells": [
  {
   "attachments": {},
   "cell_type": "markdown",
   "metadata": {},
   "source": [
    "# Marijuana Sales Prediction"
   ]
  },
  {
   "attachments": {},
   "cell_type": "markdown",
   "metadata": {},
   "source": [
    "## Objective\n",
    "- Find the most relevent features for total sales income. "
   ]
  },
  {
   "attachments": {},
   "cell_type": "markdown",
   "metadata": {},
   "source": [
    "## Import Required Libraries"
   ]
  },
  {
   "cell_type": "code",
   "execution_count": 143,
   "metadata": {},
   "outputs": [],
   "source": [
    "# Import system tools\n",
    "import os \n",
    "import sys\n",
    "import warnings\n",
    "\n",
    "# import numerical tools\n",
    "import numpy as np\n",
    "import scipy as sp\n",
    "\n",
    "# import dataframe tools\n",
    "import pandas as pd\n",
    "\n",
    "# import plotting packages\n",
    "import seaborn as sns\n",
    "import matplotlib.pyplot as plt\n",
    "\n",
    "#===================Sci-kit Learn packages===================\n",
    "# ML pipeline tools\n",
    "from sklearn.pipeline import Pipeline, make_pipeline\n",
    "from sklearn.compose import ColumnTransformer, make_column_selector\n",
    "# data preprocess tools (feature engineering)\n",
    "from sklearn.preprocessing import OrdinalEncoder, OneHotEncoder\n",
    "from sklearn.preprocessing import StandardScaler\n",
    "from sklearn.impute import SimpleImputer, KNNImputer\n",
    "# ML models\n",
    "# linear models\n",
    "from sklearn.linear_model import LinearRegression\n",
    "from sklearn.linear_model import SGDRegressor\n",
    "from sklearn.metrics import mean_absolute_error\n",
    "# tree model\n",
    "from sklearn.tree import DecisionTreeRegressor\n",
    "from sklearn.ensemble import RandomForestRegressor\n",
    "# support vector machine\n",
    "from sklearn.svm import SVR \n",
    "# dimension reduction \n",
    "from sklearn.decomposition import PCA\n",
    "# grid search\n",
    "from sklearn.model_selection import GridSearchCV, RandomizedSearchCV\n"
   ]
  },
  {
   "attachments": {},
   "cell_type": "markdown",
   "metadata": {},
   "source": [
    "## Load Data"
   ]
  },
  {
   "cell_type": "code",
   "execution_count": 144,
   "metadata": {},
   "outputs": [],
   "source": [
    "%reload_ext autoreload\n",
    "%autoreload 2\n",
    "# turn-off pandas warnings\n",
    "warnings.filterwarnings('ignore')\n",
    "\n",
    "# Load Dataset\n",
    "avgRetail = pd.read_csv(\"../data/BrandAverageRetailPrice.csv\")\n",
    "brandDetail = pd.read_csv(\"../data/BrandDetails.csv\")\n",
    "totalSales = pd.read_csv(\"../data/BrandTotalSales.csv\")\n",
    "totalUnits = pd.read_csv(\"../data/BrandTotalUnits.csv\")"
   ]
  },
  {
   "attachments": {},
   "cell_type": "markdown",
   "metadata": {},
   "source": [
    "## Construct Dataset\n",
    "- General Info (choose initial dataset)\n",
    "- Construct time-series data\n",
    "- EDA/Add new feature"
   ]
  },
  {
   "attachments": {},
   "cell_type": "markdown",
   "metadata": {},
   "source": [
    "### Total Sales Data\n",
    "- This dataset has the featured directly related to out objective, and also it contains only few features. Above reasons make it a good starting point to construct our train/test data. "
   ]
  },
  {
   "cell_type": "code",
   "execution_count": 145,
   "metadata": {},
   "outputs": [
    {
     "name": "stdout",
     "output_type": "stream",
     "text": [
      "<class 'pandas.core.frame.DataFrame'>\n",
      "RangeIndex: 25279 entries, 0 to 25278\n",
      "Data columns (total 3 columns):\n",
      " #   Column           Non-Null Count  Dtype \n",
      "---  ------           --------------  ----- \n",
      " 0   Months           25279 non-null  object\n",
      " 1   Brand            25279 non-null  object\n",
      " 2   Total Sales ($)  25279 non-null  object\n",
      "dtypes: object(3)\n",
      "memory usage: 592.6+ KB\n"
     ]
    },
    {
     "data": {
      "text/html": [
       "<div>\n",
       "<style scoped>\n",
       "    .dataframe tbody tr th:only-of-type {\n",
       "        vertical-align: middle;\n",
       "    }\n",
       "\n",
       "    .dataframe tbody tr th {\n",
       "        vertical-align: top;\n",
       "    }\n",
       "\n",
       "    .dataframe thead th {\n",
       "        text-align: right;\n",
       "    }\n",
       "</style>\n",
       "<table border=\"1\" class=\"dataframe\">\n",
       "  <thead>\n",
       "    <tr style=\"text-align: right;\">\n",
       "      <th></th>\n",
       "      <th>Months</th>\n",
       "      <th>Brand</th>\n",
       "      <th>Total Sales ($)</th>\n",
       "    </tr>\n",
       "  </thead>\n",
       "  <tbody>\n",
       "    <tr>\n",
       "      <th>0</th>\n",
       "      <td>09/2018</td>\n",
       "      <td>10x Infused</td>\n",
       "      <td>1,711.334232</td>\n",
       "    </tr>\n",
       "    <tr>\n",
       "      <th>1</th>\n",
       "      <td>09/2018</td>\n",
       "      <td>1964 Supply Co.</td>\n",
       "      <td>25,475.21594500000</td>\n",
       "    </tr>\n",
       "    <tr>\n",
       "      <th>2</th>\n",
       "      <td>09/2018</td>\n",
       "      <td>3 Bros Grow</td>\n",
       "      <td>120,153.644757</td>\n",
       "    </tr>\n",
       "    <tr>\n",
       "      <th>3</th>\n",
       "      <td>09/2018</td>\n",
       "      <td>3 Leaf</td>\n",
       "      <td>6,063.5297850000000</td>\n",
       "    </tr>\n",
       "    <tr>\n",
       "      <th>4</th>\n",
       "      <td>09/2018</td>\n",
       "      <td>350 Fire</td>\n",
       "      <td>631,510.0481550000</td>\n",
       "    </tr>\n",
       "  </tbody>\n",
       "</table>\n",
       "</div>"
      ],
      "text/plain": [
       "    Months            Brand      Total Sales ($)\n",
       "0  09/2018      10x Infused         1,711.334232\n",
       "1  09/2018  1964 Supply Co.   25,475.21594500000\n",
       "2  09/2018      3 Bros Grow       120,153.644757\n",
       "3  09/2018           3 Leaf  6,063.5297850000000\n",
       "4  09/2018         350 Fire   631,510.0481550000"
      ]
     },
     "execution_count": 145,
     "metadata": {},
     "output_type": "execute_result"
    }
   ],
   "source": [
    "totalSales.info()\n",
    "totalSales.head()"
   ]
  },
  {
   "attachments": {},
   "cell_type": "markdown",
   "metadata": {},
   "source": [
    "### Organize Total Sales Data\n",
    "- Convert \"Months\" feature into datetime format\n",
    "- Convert Sales to data-type float "
   ]
  },
  {
   "cell_type": "code",
   "execution_count": 146,
   "metadata": {},
   "outputs": [
    {
     "name": "stdout",
     "output_type": "stream",
     "text": [
      "<class 'pandas.core.frame.DataFrame'>\n",
      "RangeIndex: 25279 entries, 0 to 25278\n",
      "Data columns (total 3 columns):\n",
      " #   Column           Non-Null Count  Dtype         \n",
      "---  ------           --------------  -----         \n",
      " 0   Months           25279 non-null  datetime64[ns]\n",
      " 1   Brand            25279 non-null  object        \n",
      " 2   Total Sales ($)  25279 non-null  float64       \n",
      "dtypes: datetime64[ns](1), float64(1), object(1)\n",
      "memory usage: 592.6+ KB\n"
     ]
    }
   ],
   "source": [
    "# convert the time stamp dataset\n",
    "totalSales[\"Months\"] = totalSales[\"Months\"].astype(str).astype('datetime64[ns]')\n",
    "# convert salses data to numerical data form\n",
    "totalSales[\"Total Sales ($)\"] = totalSales[\"Total Sales ($)\"].str.replace(',','')\n",
    "totalSales[\"Total Sales ($)\"] = totalSales[\"Total Sales ($)\"].astype(float)\n",
    "totalSales.info()"
   ]
  },
  {
   "attachments": {},
   "cell_type": "markdown",
   "metadata": {},
   "source": [
    "### Lists to be analyzed brands\n",
    "- Observation\n",
    "    1. Total number of data has largest group locate in 37 data\n",
    "    2. Ignore the brands that are lack of reported data\n",
    "    3. Set the threshold to 37 data "
   ]
  },
  {
   "cell_type": "code",
   "execution_count": 147,
   "metadata": {},
   "outputs": [
    {
     "name": "stdout",
     "output_type": "stream",
     "text": [
      "The largest group has 195 data\n",
      "With current threshold, data information loss: 88.01%\n"
     ]
    },
    {
     "data": {
      "image/png": "[encoded data removed]",
      "text/plain": [
       "<Figure size 640x480 with 1 Axes>"
      ]
     },
     "metadata": {},
     "output_type": "display_data"
    }
   ],
   "source": [
    "# Find the distribution of the #brand_data\n",
    "numBrandData = pd.DataFrame()\n",
    "numBrandData.loc[:, \"Brand\"] = totalSales.loc[:, \"Brand\"]\n",
    "numBrandData.loc[:, \"brand_count\"] = [1]*len(totalSales[\"Brand\"])\n",
    "# count each brand's total number of reported data\n",
    "numBrandData = numBrandData.groupby([\"Brand\"]).sum()\n",
    "fig, axis = plt.subplots(1, 1)\n",
    "counts, edges, bars = axis.hist(numBrandData[\"brand_count\"], bins=50)\n",
    "plt.title(\"Distribution of Number of Data\")\n",
    "plt.xlabel(\"Number of Data\")\n",
    "plt.ylabel(\"Number of Brands\")\n",
    "print(f\"The largest group has {counts[-1]:.0f} data\")\n",
    "\n",
    "# filter out lack-of data brands\n",
    "dataThreshold = 37\n",
    "infoLoss = 1 - (len(numBrandData[numBrandData.brand_count >= dataThreshold])/len(numBrandData))\n",
    "print(f\"With current threshold, data information loss: {infoLoss:.2%}\")\n"
   ]
  },
  {
   "attachments": {},
   "cell_type": "markdown",
   "metadata": {},
   "source": [
    "### Construct Initial Dataset\n",
    "- Initialize dataset through copying total sales data\n",
    "- Group dataset by Brand\n",
    "- Filtered out the brands that #data is under threshold"
   ]
  },
  {
   "attachments": {},
   "cell_type": "markdown",
   "metadata": {},
   "source": [
    "#### Filtered Brand List\n",
    "- Find the list of brands that number of data is above threshold"
   ]
  },
  {
   "cell_type": "code",
   "execution_count": 148,
   "metadata": {},
   "outputs": [
    {
     "name": "stdout",
     "output_type": "stream",
     "text": [
      "195\n"
     ]
    }
   ],
   "source": [
    "brandList = pd.DataFrame()\n",
    "brandList.loc[:, \"Brand\"] = totalSales.loc[:, \"Brand\"]\n",
    "brandList.loc[:, \"Count\"] = [1]*len(totalSales[\"Brand\"])\n",
    "brandList = brandList.groupby(by=\"Brand\").sum()\n",
    "brands = brandList[brandList.Count >= dataThreshold].index\n",
    "print(len(brands))"
   ]
  },
  {
   "attachments": {},
   "cell_type": "markdown",
   "metadata": {},
   "source": [
    "#### Initialize each brands data in dictionary"
   ]
  },
  {
   "cell_type": "code",
   "execution_count": 149,
   "metadata": {},
   "outputs": [
    {
     "name": "stdout",
     "output_type": "stream",
     "text": [
      "Index(['710 Labs', 'Absolute Xtracts', 'AiroPro', 'Alien Labs',\n",
      "       'Alpine Vapor'],\n",
      "      dtype='object', name='Brand')\n"
     ]
    }
   ],
   "source": [
    "print(brands[0:5])"
   ]
  },
  {
   "cell_type": "code",
   "execution_count": 150,
   "metadata": {},
   "outputs": [],
   "source": [
    "# initialize data\n",
    "brandsData = dict()\n",
    "for brand in brands:\n",
    "    brandsData[brand] = totalSales[totalSales.Brand == brand]"
   ]
  },
  {
   "attachments": {},
   "cell_type": "markdown",
   "metadata": {},
   "source": [
    "#### EDA Sales Features\n",
    "- Explore Correlation: \n",
    "    - Previous month sales\n",
    "    - 3 months rolling sales\n",
    "    - 6 months rolling sales \n",
    "- Result\n",
    "    - previous month sales (strong correlation)\n",
    "    - 3 months rolling sales (strong correlation)\n",
    "    - 6 months rolling sales (weak correlation)\n",
    "- Action\n",
    "    - Adding \"Previous Month Sales\" & \"3 months rolling sales\" as new feature. "
   ]
  },
  {
   "cell_type": "code",
   "execution_count": 151,
   "metadata": {},
   "outputs": [],
   "source": [
    "# Calculate correlation between sales data\n",
    "prevMonth_cor = roll3Month_cor = roll6Month_cor = []\n",
    "for brand in brands:   \n",
    "\n",
    "    curSale = brandsData[brand].loc[:,\"Total Sales ($)\"]\n",
    "    #==============add last month data===============================================\n",
    "    prevSale = brandsData[brand].loc[:,\"Total Sales ($)\"].shift(-1)\n",
    "\n",
    "    #===========Adding Rolling Sales Data===========\n",
    "    # add rolling sales data (for three months)\n",
    "    # calcualte the sum\n",
    "    rollSum, rollMonths = 0, 3\n",
    "    for month in range(1, rollMonths + 1): \n",
    "        rollSum += brandsData[brand].loc[:,\"Total Sales ($)\"].shift(-1 * month)\n",
    "    roll3MonthSale = rollSum / rollMonths\n",
    "    roll3MonthSale = roll3MonthSale[~np.isnan(roll3MonthSale)]\n",
    "\n",
    "    # add rolling sales data (for six months)\n",
    "    rollSum, rollMonths = 0, 6\n",
    "    for month in range(1, rollMonths + 1): \n",
    "        rollSum += brandsData[brand].loc[:,\"Total Sales ($)\"].shift(-1 * month)\n",
    "    roll6MonthSale = rollSum / rollMonths\n",
    "    roll6MonthSale = roll6MonthSale[~np.isnan(roll6MonthSale)]\n",
    "    \n",
    "    # Calculate the correlation between dataset\n",
    "    prevMonth_cor.append(np.corrcoef(curSale[:len(prevSale)], prevSale))\n",
    "    roll3Month_cor.append(np.corrcoef(curSale[:len(roll3MonthSale)], roll3MonthSale))\n",
    "    roll6Month_cor.append(np.corrcoef(curSale[:len(roll6MonthSale)], roll6MonthSale))\n",
    "    "
   ]
  },
  {
   "cell_type": "code",
   "execution_count": null,
   "metadata": {},
   "outputs": [],
   "source": []
  },
  {
   "attachments": {},
   "cell_type": "markdown",
   "metadata": {},
   "source": [
    "#### Adding Sales Features"
   ]
  },
  {
   "cell_type": "code",
   "execution_count": 153,
   "metadata": {},
   "outputs": [],
   "source": [
    "# construct all brands data\n",
    "for brand in brands:   \n",
    "    #==============add last month data===============================================\n",
    "    brandsData[brand].loc[:, 'Previous Month Sales'] = brandsData[brand].loc[:,\"Total Sales ($)\"].shift(-1)\n",
    "\n",
    "    #===========Adding Rolling Sales Data===========\n",
    "    # add rolling sales data (for three months)\n",
    "    # calcualte the sum\n",
    "    rollSum, rollMonths = 0, 3\n",
    "    for month in range(1, rollMonths + 1): \n",
    "        rollSum += brandsData[brand].loc[:,\"Total Sales ($)\"].shift(-1 * month)\n",
    "    brandsData[brand].loc[:, 'Rolling Sales (3 months)'] = rollSum / rollMonths\n"
   ]
  },
  {
   "attachments": {},
   "cell_type": "markdown",
   "metadata": {},
   "source": [
    "## Data Preprocess\n",
    "- Create pipeline (preprocessing)\n",
    "- Hyper-parameters \n",
    "- Split dataset"
   ]
  },
  {
   "attachments": {},
   "cell_type": "markdown",
   "metadata": {},
   "source": [
    "## Deploy ML\n",
    "- Linear Model\n",
    "- Tree's Model\n",
    "- Bagging and Boosting\n",
    "- Neural Network"
   ]
  },
  {
   "attachments": {},
   "cell_type": "markdown",
   "metadata": {},
   "source": [
    "## Conclusion \n",
    "- Training/Testing result \n",
    "    1. Score\n",
    "- Discussion\n",
    "    1. Recommended action"
   ]
  }
 ],
 "metadata": {
  "kernelspec": {
   "display_name": "datascience-3.10.9",
   "language": "python",
   "name": "python3"
  },
  "language_info": {
   "codemirror_mode": {
    "name": "ipython",
    "version": 3
   },
   "file_extension": ".py",
   "mimetype": "text/x-python",
   "name": "python",
   "nbconvert_exporter": "python",
   "pygments_lexer": "ipython3",
   "version": "3.10.9"
  },
  "orig_nbformat": 4,
  "vscode": {
   "interpreter": {
    "hash": "99d106c35216c885fdbf4ab3ccbd60dcc461b6113245aaa51ea6dc46c63d0b1a"
   }
  }
 },
 "nbformat": 4,
 "nbformat_minor": 2
}
